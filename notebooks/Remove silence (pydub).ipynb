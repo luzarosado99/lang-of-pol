{
 "cells": [
  {
   "cell_type": "code",
   "execution_count": 1,
   "metadata": {},
   "outputs": [],
   "source": [
    "# module load python\n",
    "# module load ffmpeg\n",
    "# pip install --user pydub\n",
    "import pydub\n",
    "from pydub.silence import detect_nonsilent\n",
    "from pydub import AudioSegment\n",
    "from multiprocessing import Pool\n",
    "from collections import defaultdict\n",
    "import glob, os, pickle\n",
    "\n",
    "num_processors = 16\n",
    "base_path='/project2/mbspencer/nih/data/'\n",
    "zone='Zone 1'"
   ]
  },
  {
   "cell_type": "code",
   "execution_count": 4,
   "metadata": {},
   "outputs": [],
   "source": [
    "# Create a dictionary {mp3_file:AudioSegment.from_mp3(mp3_file)}\n",
    "def get_mp3_file(mp3_file):\n",
    "    return {mp3_file.split('/')[-1]:AudioSegment.from_mp3(mp3_file)}"
   ]
  },
  {
   "cell_type": "code",
   "execution_count": 5,
   "metadata": {},
   "outputs": [],
   "source": [
    "# Create a dictionary {mp3_file:[lists of start/stop for nonsilent portions of audio]}\n",
    "def get_nonsilent_slices(file, audio, min_silence, silence_thresh):\n",
    "    return {file:detect_nonsilent(audio,min_silence_len=min_silence,silence_thresh=silence_thresh)}"
   ]
  },
  {
   "cell_type": "code",
   "execution_count": 81,
   "metadata": {},
   "outputs": [],
   "source": [
    "class DailyGrind:\n",
    "\n",
    "    def __init__(self, zone, date, base_path):\n",
    "        self.zone = zone\n",
    "        self.date = date\n",
    "        self.base_path = base_path\n",
    "        self.audio_path = base_path + zone.replace(' ','') + '/' + date + '/'\n",
    "        self.files = glob.glob(self.audio_path+'2*.mp3')\n",
    "        self.filenames = [i.split('/')[-1] for i in self.files]\n",
    "        # At least 500ms of silence when detecting non-silence\n",
    "        self.min_silence=500\n",
    "        # Silence detection threshold (dB)\n",
    "        self.thresh=-24\n",
    "    \n",
    "    def load_audio(self, num_processors=num_processors):\n",
    "        files = self.files\n",
    "        files.sort()\n",
    "        p = Pool(processes = num_processors)\n",
    "        output = p.map(get_mp3_file,files)\n",
    "        p.close()\n",
    "        self.audio_dict = {k:v for i in output for k,v in i.items()}\n",
    "\n",
    "    def VAD(self, method='pydub'):\n",
    "        if method=='pydub':\n",
    "            p = Pool(processes = num_processors)\n",
    "            output = p.starmap(get_nonsilent_slices,[(filename,self.audio_dict[filename],self.min_silence, self.thresh) for filename in self.audio_dict])\n",
    "            p.close()\n",
    "            self.nonsilent_slices_dict = {k:v for i in output for k,v in i.items()}\n",
    "\n",
    "    def get_metadata(self,method):\n",
    "        # Create_metadata dictionary and populate with cursory metadata\n",
    "        vad_metadata_dict={}\n",
    "        vad_metadata_dict['zone'] = self.zone\n",
    "        vad_metadata_dict['date'] = self.date\n",
    "        # Create entry for silence detection method\n",
    "        vad_metadata_dict[method] = {}\n",
    "        # Find files that are 100% silence\n",
    "        vad_metadata_dict[method]['files_total_silence'] = [k for k in self.nonsilent_slices_dict if len(self.nonsilent_slices_dict[k])==0]\n",
    "        # Tag if date has files with 100% silence\n",
    "        vad_metadata_dict[method]['has_silent_files'] = len(vad_metadata_dict[method]['files_total_silence'])>0\n",
    "        # Find duration of recordings (discounting files with 100% silence)\n",
    "        vad_metadata_dict[method]['file_length_seconds'] = {filename:self.audio_dict[filename].duration_seconds for filename in self.audio_dict if filename not in vad_metadata_dict[method]['files_total_silence']}\n",
    "        # Find duration of entire day\n",
    "        vad_metadata_dict[method]['day_length_minutes'] = sum(vad_metadata_dict[method]['file_length_seconds'].values())/60 \n",
    "        # Day has 95%+ coverage?\n",
    "        vad_metadata_dict[method]['complete_data'] = vad_metadata_dict[method]['day_length_minutes']/1440>=0.95\n",
    "        # Extract timestamp metadata and add timing of non-silence\n",
    "        for filename in self.nonsilent_slices_dict:\n",
    "            timestamp = filename.split('.')[0]\n",
    "            vad_metadata_dict[method][filename] = {}\n",
    "            vad_metadata_dict[method][filename]['recording_start'] = {'year':int(timestamp[0:4]),\n",
    "                                                                      'month':int(timestamp[4:6]),\n",
    "                                                                      'day':int(timestamp[6:8]),\n",
    "                                                                      'time':int(timestamp[8:12])}\n",
    "            # Get nonsilent slices from before\n",
    "            file_nonsilent_slices = self.nonsilent_slices_dict[filename]\n",
    "            # Save them for later use\n",
    "            vad_metadata_dict[method][filename]['nonsilent_slices'] = file_nonsilent_slices\n",
    "            # Load audio for the file\n",
    "            audio = self.audio_dict[filename]\n",
    "            # Set number of nonsilent seconds to 0\n",
    "            nonsilent_seconds = 0\n",
    "            # If any nonsilent slices...\n",
    "            if len(file_nonsilent_slices)>0:\n",
    "                # For each nonsilent slice:\n",
    "                for nonsilent_slice in file_nonsilent_slices:\n",
    "                    # Extract start/end of nonsilent slice\n",
    "                    start, end = nonsilent_slice\n",
    "                    # Get duration of non-silence before adding buffer of silence between slices\n",
    "                    nonsilent_seconds += audio[start:end].duration_seconds\n",
    "            vad_metadata_dict[method][filename]['nonsilent_minutes'] = nonsilent_seconds/60\n",
    "        if method=='pydub':\n",
    "            # Include threshold used for pydub silence detection\n",
    "            vad_metadata_dict[method]['thresh'] = self.thresh\n",
    "        return vad_metadata_dict"
   ]
  },
  {
   "cell_type": "code",
   "execution_count": 82,
   "metadata": {},
   "outputs": [],
   "source": [
    "def get_metadata_dict(zone, date, base_path):\n",
    "    print('Processing '+date+' in '+zone)\n",
    "    dg = DailyGrind(zone=zone,date=date,base_path=base_path)\n",
    "    dg.load_audio()\n",
    "    dg.VAD()\n",
    "    metadata_dict = dg.get_metadata(method='pydub')\n",
    "    pickle.dump(metadata_dict,open(base_path+zone.replace(' ','')+'/'+date+'/'+date+'metadata_dict.pkl','wb'))    "
   ]
  },
  {
   "cell_type": "code",
   "execution_count": 83,
   "metadata": {},
   "outputs": [
    {
     "name": "stdout",
     "output_type": "stream",
     "text": [
      "Processing 2018_08_04 in Zone 4\n",
      "Processing 2018_08_05 in Zone 4\n"
     ]
    }
   ],
   "source": [
    "date_path = base_path+zone.replace(' ','')+'/'\n",
    "dates = [i.split('/')[-1] for i in glob.glob(date_path+'*')]\n",
    "dates.sort()\n",
    "for date in dates:\n",
    "    get_metadata_dict(zone, date, base_path)"
   ]
  },
  {
   "cell_type": "code",
   "execution_count": 89,
   "metadata": {},
   "outputs": [],
   "source": [
    "#metadata_dict = pickle.load(open(base_path+zone.replace(' ','')+'/2018_08_05/2018_08_05metadata_dict.pkl','rb'))\n",
    "#metadata_dict['pydub'].keys()"
   ]
  },
  {
   "cell_type": "code",
   "execution_count": null,
   "metadata": {},
   "outputs": [],
   "source": []
  },
  {
   "cell_type": "code",
   "execution_count": null,
   "metadata": {},
   "outputs": [],
   "source": []
  },
  {
   "cell_type": "markdown",
   "metadata": {},
   "source": []
  },
  {
   "cell_type": "code",
   "execution_count": null,
   "metadata": {},
   "outputs": [],
   "source": []
  },
  {
   "cell_type": "code",
   "execution_count": null,
   "metadata": {},
   "outputs": [],
   "source": []
  },
  {
   "cell_type": "code",
   "execution_count": null,
   "metadata": {},
   "outputs": [],
   "source": []
  }
 ],
 "metadata": {
  "kernelspec": {
   "display_name": "Python 3 (ipykernel)",
   "language": "python",
   "name": "python3"
  },
  "language_info": {
   "codemirror_mode": {
    "name": "ipython",
    "version": 3
   },
   "file_extension": ".py",
   "mimetype": "text/x-python",
   "name": "python",
   "nbconvert_exporter": "python",
   "pygments_lexer": "ipython3",
   "version": "3.9.6"
  }
 },
 "nbformat": 4,
 "nbformat_minor": 4
}
