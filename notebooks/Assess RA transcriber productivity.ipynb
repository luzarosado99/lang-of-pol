{
 "cells": [
  {
   "cell_type": "code",
   "execution_count": 1,
   "metadata": {},
   "outputs": [],
   "source": [
    "# Note: MUST load python/anaconda-2021.05\n",
    "import pandas as pd\n",
    "import glob, os\n",
    "import numpy as np\n",
    "import matplotlib.pyplot as plt\n",
    "import datetime\n",
    "from datetime import datetime\n",
    "from datetime import timedelta\n",
    "os.chdir('/project/graziul/transcripts/')"
   ]
  },
  {
   "cell_type": "code",
   "execution_count": 2,
   "metadata": {},
   "outputs": [
    {
     "data": {
      "text/plain": [
       "'2021_09_30'"
      ]
     },
     "execution_count": 2,
     "metadata": {},
     "output_type": "execute_result"
    }
   ],
   "source": [
    "today = datetime.today().strftime('%Y-%m-%d')\n",
    "today = today.replace('-','_')\n",
    "today"
   ]
  },
  {
   "cell_type": "code",
   "execution_count": 3,
   "metadata": {},
   "outputs": [],
   "source": [
    "# Get files\n",
    "dirs_cnet = glob.glob('*' + os.path.sep)\n",
    "dirs_cnet = [i for i in dirs_cnet if i != 'Raw/']\n",
    "zones = ['Zone1','Zone4','Zone8']\n",
    "dirs= []\n",
    "for zone in zones:\n",
    "    dirs += [i+zone+'/' for i in dirs_cnet if os.path.exists(i+zone+'/')]"
   ]
  },
  {
   "cell_type": "code",
   "execution_count": 4,
   "metadata": {
    "scrolled": true
   },
   "outputs": [
    {
     "data": {
      "text/plain": [
       "['huthealex/Zone1/',\n",
       " 'kristinakim/Zone1/',\n",
       " 'tcjacksonsaitz/Zone1/',\n",
       " 'wdolan/Zone1/',\n",
       " 'kayawest/Zone1/',\n",
       " 'chu16/Zone1/',\n",
       " 'oabiona/Zone1/',\n",
       " 'alexjrosado/Zone1/',\n",
       " 'mhayford/Zone1/',\n",
       " 'mirandgw/Zone1/',\n",
       " 'sabajohnson/Zone1/',\n",
       " 'hszymanek/Zone1/',\n",
       " 'ryanhathaway/Zone1/',\n",
       " 'kjcoleman/Zone1/',\n",
       " 'wahid/Zone1/',\n",
       " 'aekim22/Zone1/',\n",
       " 'clarkmoody/Zone1/',\n",
       " 'tcjacksonsaitz/Zone4/',\n",
       " 'wdolan/Zone4/',\n",
       " 'chu16/Zone4/',\n",
       " 'alexjrosado/Zone4/',\n",
       " 'mhayford/Zone4/',\n",
       " 'mirandgw/Zone4/',\n",
       " 'sabajohnson/Zone4/',\n",
       " 'hszymanek/Zone4/',\n",
       " 'ryanhathaway/Zone4/',\n",
       " 'aliasmith/Zone4/',\n",
       " 'clarkmoody/Zone4/',\n",
       " 'wdolan/Zone8/',\n",
       " 'sabajohnson/Zone8/',\n",
       " 'xuranzeng/Zone8/',\n",
       " 'aliasmith/Zone8/']"
      ]
     },
     "execution_count": 4,
     "metadata": {},
     "output_type": "execute_result"
    }
   ],
   "source": [
    "dirs"
   ]
  },
  {
   "cell_type": "code",
   "execution_count": 5,
   "metadata": {
    "scrolled": true
   },
   "outputs": [
    {
     "name": "stdout",
     "output_type": "stream",
     "text": [
      "Number of total files: 402\n",
      "Number of processed files: 402\n",
      "Number of utterances: 51730\n"
     ]
    }
   ],
   "source": [
    "list_of_transcripts = []\n",
    "num_files = 0\n",
    "num_files_processed = 0\n",
    "for user_dir in dirs:\n",
    "    files = glob.glob(user_dir+'*.xlsx')+glob.glob(user_dir+'*.txt')\n",
    "    for file in files:\n",
    "        _, zone, _ = file.split('/')\n",
    "        loaded_file=False\n",
    "        num_files +=1\n",
    "        if '.xlsx' in file:\n",
    "            df_file = pd.read_excel(file)\n",
    "            loaded_file=True\n",
    "        if '.txt' in file: # and 'rah' not in file:\n",
    "            df_file = pd.read_csv(file, sep='\\t',names=['start','end','label'])\n",
    "            loaded_file=True\n",
    "            def parse_label(l):\n",
    "                try:\n",
    "                    try:\n",
    "                        parsed_label = l.split(';')\n",
    "                    except:\n",
    "                        print(file, l)\n",
    "                    parsed_label = [i for i in parsed_label if 'seconds' not in i]\n",
    "                    if len(parsed_label)==0:\n",
    "                        return pd.Series(['','',''], index=['sid','transcription','notes'])\n",
    "                    if len(parsed_label)==1:\n",
    "                        return pd.Series(['']+parsed_label+[''], index=['sid','transcription','notes'])\n",
    "                    if len(parsed_label)==2:\n",
    "                        return pd.Series(parsed_label+[''],index=['sid','transcription','notes'])\n",
    "                    if len(parsed_label)==3:\n",
    "                        return pd.Series(parsed_label, index=['sid','transcription','notes'])\n",
    "                    else:\n",
    "                        print(file, l, parsed_label)\n",
    "                except:\n",
    "                    print(file, l, parsed_label)\n",
    "            df_file[['sid','transcription','notes']] = df_file['label'].apply(lambda x: parse_label(x))\n",
    "            df_file = df_file.drop(['label'], axis=1)\n",
    "            def get_hms(x):\n",
    "                m, s = divmod(x,60)\n",
    "                m_str = str(round(m))\n",
    "                s_str = str(round(s,3))\n",
    "                return '00.'+m_str+'.'+s_str\n",
    "            df_file['start'] = df_file['start'].apply(lambda x: get_hms(x))\n",
    "            df_file['end'] = df_file['end'].apply(lambda x: get_hms(x))\n",
    "        # Check that file was loaded\n",
    "        if loaded_file:\n",
    "            # Change variable names as needed\n",
    "            df_file.rename(columns= lambda x: x.strip(),inplace=True)\n",
    "            df_file.rename(columns= lambda x: x.lower(),inplace=True)\n",
    "            df_file.rename(columns= {'speaker id':'sid',\n",
    "                                    'speaker ut':'sid',\n",
    "                                    'speaker utt':'sid',\n",
    "                                    'speakerutt':'sid',\n",
    "                                    'speaker':'sid',\n",
    "                                    'start .1':'start',\n",
    "                                    'time.start':'start',\n",
    "                                    'start time':'start',\n",
    "                                    'time.stop':'end',\n",
    "                                    'time.end':'end',\n",
    "                                    'end time':'end',\n",
    "                                    'stop':'end',\n",
    "                                    'top':'end',\n",
    "                                    'note':'notes',\n",
    "                                    'unnamed: 4':'notes'},inplace=True)\n",
    "            metadata = file.split('.')[0].split('/')[-1]\n",
    "            df_file['year'] = int(metadata[0:4])\n",
    "            df_file['month'] = int(metadata[4:6])\n",
    "            df_file['day'] = int(metadata[6:8])\n",
    "            df_file['time'] = int(metadata[8:12])\n",
    "            df_file['feed'] = int(metadata.split('-')[2][0:5])\n",
    "            df_file['zone'] = zone\n",
    "            df_file['file'] = file.split('/')[-1]\n",
    "            df_file['transcriber'] = file.split('/')[0]\n",
    "            num_files_processed+=1\n",
    "            # Keep only what we need\n",
    "            try:\n",
    "                df_file = df_file[['feed','zone','year','month','day','time','sid','start','end','transcription','notes','file','transcriber']]\n",
    "            except:\n",
    "                print(file,df_file.columns.values)\n",
    "            if len(list_of_transcripts)==0:\n",
    "                list_of_transcripts = [df_file]\n",
    "            else:\n",
    "                list_of_transcripts.append(df_file)\n",
    "df_transcripts = pd.concat(list_of_transcripts).reset_index(drop=True)\n",
    "num_snippets = len(df_transcripts)\n",
    "print('Number of total files: '+str(num_files)+'\\nNumber of processed files: '+str(num_files_processed)+'\\nNumber of utterances: '+str(num_snippets))"
   ]
  },
  {
   "cell_type": "code",
   "execution_count": 6,
   "metadata": {
    "scrolled": true
   },
   "outputs": [],
   "source": [
    "def clean_timestamp(t):\n",
    "    t = str(t).replace(':','.')\n",
    "    t = t.replace(';','.')\n",
    "    # Remove extra period\n",
    "    t = t.replace('..','.')\n",
    "    t = t.replace(\"'\",\"\")\n",
    "    parsed = t.split('.')\n",
    "    # Remove spaces\n",
    "    parsed = [i.strip() for i in parsed]\n",
    "    if len(parsed)==4:\n",
    "        # Normal '00.#.#.#'\n",
    "        return '.'.join(parsed[0:4])\n",
    "    elif len(parsed)==3:\n",
    "        # Idiosyncratic issue where '.#.#'\n",
    "        if parsed[0]=='':\n",
    "            return '.'.join(['00.00']+parsed[1:3])\n",
    "        # More common issue where '#.#.#'\n",
    "        else:\n",
    "            return '.'.join(['00']+parsed[0:3])\n",
    "    elif len(parsed)==2:\n",
    "        # Situation where '#.#' (always seconds.milliseconds at start of file)\n",
    "        return '.'.join(['00.00']+parsed)\n",
    "    elif len(parsed)==1:\n",
    "        # Situation where '#' (always '0' seconds indicating start of file)\n",
    "        return '.'.join(['00.00']+parsed+['00'])\n",
    "    else:\n",
    "        print(t)\n",
    "def try_clean(x):\n",
    "    try:\n",
    "        t = clean_timestamp(x)\n",
    "        return t\n",
    "    except:\n",
    "        print(x)\n",
    "df_transcripts['start_c'] = df_transcripts['start'].apply(lambda x: try_clean(x))\n",
    "df_transcripts['start_dt'] = pd.to_datetime(df_transcripts['start_c'],format='%H.%M.%S.%f')\n",
    "df_transcripts['end_c'] = df_transcripts['end'].apply(lambda x: try_clean(x))\n",
    "df_transcripts['end_dt'] = pd.to_datetime(df_transcripts['end_c'],format='%H.%M.%S.%f')\n",
    "df_transcripts['start'] = (df_transcripts['start_dt']-np.datetime64('1900-01-01T00:00:00.000000000')).dt.total_seconds()\n",
    "df_transcripts['end'] = (df_transcripts['end_dt']-np.datetime64('1900-01-01T00:00:00.000000000')).dt.total_seconds()"
   ]
  },
  {
   "cell_type": "code",
   "execution_count": 7,
   "metadata": {},
   "outputs": [
    {
     "data": {
      "text/plain": [
       "<AxesSubplot:>"
      ]
     },
     "execution_count": 7,
     "metadata": {},
     "output_type": "execute_result"
    },
    {
     "data": {
      "image/png": "[encoded data removed]",
      "text/plain": [
       "<Figure size 432x288 with 1 Axes>"
      ]
     },
     "metadata": {
      "needs_background": "light"
     },
     "output_type": "display_data"
    }
   ],
   "source": [
    "# Calculate length of time transcribed\n",
    "df_transcripts['length'] = (df_transcripts['end']-df_transcripts['start'])\n",
    "df_transcripts['length'].hist(bins=100,range=(0,10))"
   ]
  },
  {
   "cell_type": "code",
   "execution_count": 39,
   "metadata": {},
   "outputs": [
    {
     "data": {
      "text/plain": [
       "count    51730.000000\n",
       "mean         2.215564\n",
       "std         30.378892\n",
       "min      -3300.786000\n",
       "25%          0.865000\n",
       "50%          1.420000\n",
       "75%          2.660000\n",
       "max       1626.936000\n",
       "Name: length, dtype: float64"
      ]
     },
     "execution_count": 39,
     "metadata": {},
     "output_type": "execute_result"
    }
   ],
   "source": [
    "df_transcripts['length'].describe()"
   ]
  },
  {
   "cell_type": "code",
   "execution_count": 38,
   "metadata": {},
   "outputs": [
    {
     "data": {
      "text/plain": [
       "zone\n",
       "Zone1    [[AxesSubplot(0.125,0.670278;0.775x0.209722)],...\n",
       "Zone4    [[AxesSubplot(0.125,0.670278;0.775x0.209722)],...\n",
       "Zone8    [[AxesSubplot(0.125,0.670278;0.775x0.209722)],...\n",
       "dtype: object"
      ]
     },
     "execution_count": 38,
     "metadata": {},
     "output_type": "execute_result"
    },
    {
     "data": {
      "image/png": "[encoded data removed]",
      "text/plain": [
       "<Figure size 1080x720 with 3 Axes>"
      ]
     },
     "metadata": {
      "needs_background": "light"
     },
     "output_type": "display_data"
    },
    {
     "data": {
      "image/png": "[encoded data removed]",
      "text/plain": [
       "<Figure size 1080x720 with 3 Axes>"
      ]
     },
     "metadata": {
      "needs_background": "light"
     },
     "output_type": "display_data"
    },
    {
     "data": {
      "image/png": "[encoded data removed]",
      "text/plain": [
       "<Figure size 1080x720 with 3 Axes>"
      ]
     },
     "metadata": {
      "needs_background": "light"
     },
     "output_type": "display_data"
    }
   ],
   "source": [
    "df_transcripts.groupby('zone').hist(column='length',bins=200,range=(0,10),layout=(3,1),figsize=(15,10), sharey=True)"
   ]
  },
  {
   "cell_type": "code",
   "execution_count": 8,
   "metadata": {},
   "outputs": [
    {
     "name": "stdout",
     "output_type": "stream",
     "text": [
      "Transcripts: 402\n",
      "Audio reviewed: About 201.0 hours\n",
      "Unique audio files: 219\n",
      "BPC coverage: About 109.5 hours of working time\n"
     ]
    }
   ],
   "source": [
    "# Find number of unique transcription file names\n",
    "unique_transcripts = len(df_transcripts['file'].unique())\n",
    "# Calculate approximate minutes transcribed\n",
    "total_transcribed = unique_transcripts*30\n",
    "# Find number of unique audio files transcribed\n",
    "unique_files_transcribed = len(df_transcripts[['feed','year','month','day','time']].drop_duplicates())\n",
    "print(\"Transcripts: \"+str(unique_transcripts)+\"\\nAudio reviewed: About \"+str(total_transcribed/60)+\" hours\\nUnique audio files: \"+str(unique_files_transcribed)+\"\\nBPC coverage: About \"+str(unique_files_transcribed*30/60)+\" hours of working time\")"
   ]
  },
  {
   "cell_type": "code",
   "execution_count": 9,
   "metadata": {
    "scrolled": true
   },
   "outputs": [
    {
     "data": {
      "text/plain": [
       "count    51730.000000\n",
       "mean         2.215564\n",
       "std         30.378892\n",
       "min      -3300.786000\n",
       "25%          0.865000\n",
       "50%          1.420000\n",
       "75%          2.660000\n",
       "max       1626.936000\n",
       "Name: length, dtype: float64"
      ]
     },
     "execution_count": 9,
     "metadata": {},
     "output_type": "execute_result"
    }
   ],
   "source": [
    "# Look for errors/outliers (anything negative is an error, anything more than 20 seconds is an outlier)\n",
    "df_transcripts['length'].describe(include='all')"
   ]
  },
  {
   "cell_type": "code",
   "execution_count": 10,
   "metadata": {},
   "outputs": [
    {
     "data": {
      "text/plain": [
       "203"
      ]
     },
     "execution_count": 10,
     "metadata": {},
     "output_type": "execute_result"
    }
   ],
   "source": [
    "# Get a list of outliers to review organized by transcriber and filename\n",
    "outlier_thresh = 25\n",
    "df_outliers = df_transcripts.loc[(df_transcripts['length']<0) | (df_transcripts['length']>outlier_thresh),['transcriber','file','start','end','length']].sort_values(['file','transcriber']).reset_index(drop=True)\n",
    "df_outliers.to_csv('outliers'+today+'.csv',index=False)\n",
    "len(df_outliers)"
   ]
  },
  {
   "cell_type": "code",
   "execution_count": 11,
   "metadata": {},
   "outputs": [],
   "source": [
    "def remove_irrelevant(x):\n",
    "    x = str(x)\n",
    "    x = x.replace(\"\\[Uncertain\\]\",\"\")\n",
    "    x = x.replace(\"INAUDIBLE\",\"\")    \n",
    "    x = x.replace(\"<X>\",\"\")\n",
    "    x = x.replace(\"-\",\" \")\n",
    "    x = ' '.join(x.split())\n",
    "    x = ''.join([i for i in x if i.isalnum() or i==' '])\n",
    "    x = x.strip()\n",
    "    x = x.upper()\n",
    "    return x"
   ]
  },
  {
   "cell_type": "code",
   "execution_count": 12,
   "metadata": {},
   "outputs": [
    {
     "data": {
      "text/html": [
       "<div>\n",
       "<style scoped>\n",
       "    .dataframe tbody tr th:only-of-type {\n",
       "        vertical-align: middle;\n",
       "    }\n",
       "\n",
       "    .dataframe tbody tr th {\n",
       "        vertical-align: top;\n",
       "    }\n",
       "\n",
       "    .dataframe thead th {\n",
       "        text-align: right;\n",
       "    }\n",
       "</style>\n",
       "<table border=\"1\" class=\"dataframe\">\n",
       "  <thead>\n",
       "    <tr style=\"text-align: right;\">\n",
       "      <th></th>\n",
       "      <th>feed</th>\n",
       "      <th>zone</th>\n",
       "      <th>year</th>\n",
       "      <th>month</th>\n",
       "      <th>day</th>\n",
       "      <th>time</th>\n",
       "      <th>sid</th>\n",
       "      <th>start</th>\n",
       "      <th>end</th>\n",
       "      <th>transcription</th>\n",
       "      <th>notes</th>\n",
       "      <th>file</th>\n",
       "      <th>transcriber</th>\n",
       "      <th>length</th>\n",
       "      <th>index</th>\n",
       "    </tr>\n",
       "  </thead>\n",
       "  <tbody>\n",
       "    <tr>\n",
       "      <th>0</th>\n",
       "      <td>27730</td>\n",
       "      <td>Zone1</td>\n",
       "      <td>2018</td>\n",
       "      <td>8</td>\n",
       "      <td>12</td>\n",
       "      <td>932</td>\n",
       "      <td>RADIO</td>\n",
       "      <td>141.252</td>\n",
       "      <td>151.279</td>\n",
       "      <td>RADIOSHOP TESTING ONE TWO THREE FOUR FIVE FIVE...</td>\n",
       "      <td>NaN</td>\n",
       "      <td>201808120932-28710-27730ah.xlsx</td>\n",
       "      <td>huthealex</td>\n",
       "      <td>10.027</td>\n",
       "      <td>0</td>\n",
       "    </tr>\n",
       "    <tr>\n",
       "      <th>1</th>\n",
       "      <td>27730</td>\n",
       "      <td>Zone1</td>\n",
       "      <td>2018</td>\n",
       "      <td>8</td>\n",
       "      <td>12</td>\n",
       "      <td>932</td>\n",
       "      <td>RADIO</td>\n",
       "      <td>158.109</td>\n",
       "      <td>159.417</td>\n",
       "      <td>ONE TWO ONE TWO</td>\n",
       "      <td>NaN</td>\n",
       "      <td>201808120932-28710-27730ah.xlsx</td>\n",
       "      <td>huthealex</td>\n",
       "      <td>1.308</td>\n",
       "      <td>1</td>\n",
       "    </tr>\n",
       "    <tr>\n",
       "      <th>2</th>\n",
       "      <td>27730</td>\n",
       "      <td>Zone1</td>\n",
       "      <td>2018</td>\n",
       "      <td>8</td>\n",
       "      <td>12</td>\n",
       "      <td>932</td>\n",
       "      <td>UNIT</td>\n",
       "      <td>168.327</td>\n",
       "      <td>169.235</td>\n",
       "      <td>UNIT COMING IN</td>\n",
       "      <td>NaN</td>\n",
       "      <td>201808120932-28710-27730ah.xlsx</td>\n",
       "      <td>huthealex</td>\n",
       "      <td>0.908</td>\n",
       "      <td>2</td>\n",
       "    </tr>\n",
       "    <tr>\n",
       "      <th>3</th>\n",
       "      <td>27730</td>\n",
       "      <td>Zone1</td>\n",
       "      <td>2018</td>\n",
       "      <td>8</td>\n",
       "      <td>12</td>\n",
       "      <td>932</td>\n",
       "      <td>UNIT</td>\n",
       "      <td>175.330</td>\n",
       "      <td>177.437</td>\n",
       "      <td>ZONE ONE IS ON CITY [WIDE] FIVE</td>\n",
       "      <td>NaN</td>\n",
       "      <td>201808120932-28710-27730ah.xlsx</td>\n",
       "      <td>huthealex</td>\n",
       "      <td>2.107</td>\n",
       "      <td>3</td>\n",
       "    </tr>\n",
       "    <tr>\n",
       "      <th>4</th>\n",
       "      <td>27730</td>\n",
       "      <td>Zone1</td>\n",
       "      <td>2018</td>\n",
       "      <td>8</td>\n",
       "      <td>12</td>\n",
       "      <td>932</td>\n",
       "      <td>RADIO</td>\n",
       "      <td>184.003</td>\n",
       "      <td>189.017</td>\n",
       "      <td>OKAY THANKS UH THIS IS THE RADIO SHOP TESTING ...</td>\n",
       "      <td>NaN</td>\n",
       "      <td>201808120932-28710-27730ah.xlsx</td>\n",
       "      <td>huthealex</td>\n",
       "      <td>5.014</td>\n",
       "      <td>4</td>\n",
       "    </tr>\n",
       "  </tbody>\n",
       "</table>\n",
       "</div>"
      ],
      "text/plain": [
       "    feed   zone  year  month  day  time    sid    start      end  \\\n",
       "0  27730  Zone1  2018      8   12   932  RADIO  141.252  151.279   \n",
       "1  27730  Zone1  2018      8   12   932  RADIO  158.109  159.417   \n",
       "2  27730  Zone1  2018      8   12   932   UNIT  168.327  169.235   \n",
       "3  27730  Zone1  2018      8   12   932   UNIT  175.330  177.437   \n",
       "4  27730  Zone1  2018      8   12   932  RADIO  184.003  189.017   \n",
       "\n",
       "                                       transcription notes  \\\n",
       "0  RADIOSHOP TESTING ONE TWO THREE FOUR FIVE FIVE...   NaN   \n",
       "1                                    ONE TWO ONE TWO   NaN   \n",
       "2                                     UNIT COMING IN   NaN   \n",
       "3                    ZONE ONE IS ON CITY [WIDE] FIVE   NaN   \n",
       "4  OKAY THANKS UH THIS IS THE RADIO SHOP TESTING ...   NaN   \n",
       "\n",
       "                              file transcriber  length  index  \n",
       "0  201808120932-28710-27730ah.xlsx   huthealex  10.027      0  \n",
       "1  201808120932-28710-27730ah.xlsx   huthealex   1.308      1  \n",
       "2  201808120932-28710-27730ah.xlsx   huthealex   0.908      2  \n",
       "3  201808120932-28710-27730ah.xlsx   huthealex   2.107      3  \n",
       "4  201808120932-28710-27730ah.xlsx   huthealex   5.014      4  "
      ]
     },
     "execution_count": 12,
     "metadata": {},
     "output_type": "execute_result"
    }
   ],
   "source": [
    "df_transcripts_all = df_transcripts.copy()\n",
    "df_transcripts_all['index']=df_transcripts_all.index\n",
    "df_transcripts_all = df_transcripts_all[[i for i in df_transcripts_all.columns.values if i not in ['start_c','start_dt','end_c','end_dt']]]\n",
    "df_transcripts_all.to_csv('transcripts_raw'+today+'.csv',index=False)\n",
    "df_transcripts_all.head()"
   ]
  },
  {
   "cell_type": "code",
   "execution_count": 13,
   "metadata": {},
   "outputs": [
    {
     "data": {
      "text/html": [
       "<div>\n",
       "<style scoped>\n",
       "    .dataframe tbody tr th:only-of-type {\n",
       "        vertical-align: middle;\n",
       "    }\n",
       "\n",
       "    .dataframe tbody tr th {\n",
       "        vertical-align: top;\n",
       "    }\n",
       "\n",
       "    .dataframe thead th {\n",
       "        text-align: right;\n",
       "    }\n",
       "</style>\n",
       "<table border=\"1\" class=\"dataframe\">\n",
       "  <thead>\n",
       "    <tr style=\"text-align: right;\">\n",
       "      <th></th>\n",
       "      <th>index</th>\n",
       "      <th>transcription</th>\n",
       "    </tr>\n",
       "  </thead>\n",
       "  <tbody>\n",
       "    <tr>\n",
       "      <th>25111</th>\n",
       "      <td>25111</td>\n",
       "      <td>I THINK THEY WENT OVER ON WABASH THERE NEXT TO UH</td>\n",
       "    </tr>\n",
       "    <tr>\n",
       "      <th>48127</th>\n",
       "      <td>48127</td>\n",
       "      <td>UH SIX ELEVEN</td>\n",
       "    </tr>\n",
       "    <tr>\n",
       "      <th>47908</th>\n",
       "      <td>47908</td>\n",
       "      <td>TEN FOUR</td>\n",
       "    </tr>\n",
       "    <tr>\n",
       "      <th>39131</th>\n",
       "      <td>39131</td>\n",
       "      <td>YOU GET UP AND ROLL AND I GOT AN INFO FOR THE ...</td>\n",
       "    </tr>\n",
       "    <tr>\n",
       "      <th>49240</th>\n",
       "      <td>49240</td>\n",
       "      <td>NO ONE</td>\n",
       "    </tr>\n",
       "  </tbody>\n",
       "</table>\n",
       "</div>"
      ],
      "text/plain": [
       "       index                                      transcription\n",
       "25111  25111  I THINK THEY WENT OVER ON WABASH THERE NEXT TO UH\n",
       "48127  48127                                      UH SIX ELEVEN\n",
       "47908  47908                                           TEN FOUR\n",
       "39131  39131  YOU GET UP AND ROLL AND I GOT AN INFO FOR THE ...\n",
       "49240  49240                                             NO ONE"
      ]
     },
     "execution_count": 13,
     "metadata": {},
     "output_type": "execute_result"
    }
   ],
   "source": [
    "df_transcripts_forcoding = df_transcripts_all[['index','transcription']].copy()\n",
    "df_transcripts_forcoding['transcription'] = df_transcripts_forcoding['transcription'].apply(remove_irrelevant)\n",
    "df_transcripts_forcoding = df_transcripts_forcoding.sample(frac=1)\n",
    "df_transcripts_forcoding.to_csv('transcripts_forcoding'+today+'.csv',index=False)\n",
    "df_transcripts_forcoding.head()"
   ]
  },
  {
   "cell_type": "code",
   "execution_count": 14,
   "metadata": {},
   "outputs": [
    {
     "data": {
      "text/html": [
       "<div>\n",
       "<style scoped>\n",
       "    .dataframe tbody tr th:only-of-type {\n",
       "        vertical-align: middle;\n",
       "    }\n",
       "\n",
       "    .dataframe tbody tr th {\n",
       "        vertical-align: top;\n",
       "    }\n",
       "\n",
       "    .dataframe thead th {\n",
       "        text-align: right;\n",
       "    }\n",
       "</style>\n",
       "<table border=\"1\" class=\"dataframe\">\n",
       "  <thead>\n",
       "    <tr style=\"text-align: right;\">\n",
       "      <th></th>\n",
       "      <th>index</th>\n",
       "      <th>transcription</th>\n",
       "    </tr>\n",
       "  </thead>\n",
       "  <tbody>\n",
       "    <tr>\n",
       "      <th>40818</th>\n",
       "      <td>40818</td>\n",
       "      <td>ALRIGHT UH EIGHTEEN TEN ROBERT</td>\n",
       "    </tr>\n",
       "  </tbody>\n",
       "</table>\n",
       "</div>"
      ],
      "text/plain": [
       "       index                   transcription\n",
       "40818  40818  ALRIGHT UH EIGHTEEN TEN ROBERT"
      ]
     },
     "execution_count": 14,
     "metadata": {},
     "output_type": "execute_result"
    }
   ],
   "source": [
    "# NOTE: Manually change index based on above to ensure alignment\n",
    "df_transcripts_forcoding[df_transcripts_forcoding['index']==40818]"
   ]
  },
  {
   "cell_type": "code",
   "execution_count": 15,
   "metadata": {},
   "outputs": [
    {
     "name": "stderr",
     "output_type": "stream",
     "text": [
      "/home/graziul/.conda/envs/deepspeech/lib/python3.9/site-packages/pandas/core/indexing.py:1773: SettingWithCopyWarning: \n",
      "A value is trying to be set on a copy of a slice from a DataFrame.\n",
      "Try using .loc[row_indexer,col_indexer] = value instead\n",
      "\n",
      "See the caveats in the documentation: https://pandas.pydata.org/pandas-docs/stable/user_guide/indexing.html#returning-a-view-versus-a-copy\n",
      "  self._setitem_single_column(ilocs[0], value, pi)\n"
     ]
    },
    {
     "name": "stdout",
     "output_type": "stream",
     "text": [
      "Utterances transcribed: 51474\n",
      "Audio transcribed: 31.9 hours\n"
     ]
    }
   ],
   "source": [
    "# Get total transcribed without errors/outliers\n",
    "num_utterances_noprob = len(df_transcripts[(df_transcripts['length']>0) & (df_transcripts['length']<outlier_thresh)])\n",
    "df_transcripts_noprob = df_transcripts[(df_transcripts['length']>0) & (df_transcripts['length']<outlier_thresh)]\n",
    "df_transcripts_noprob.loc[:,('transcription')] = df_transcripts_noprob['transcription'].str.upper()\n",
    "df_transcripts_noprob.to_csv('transcripts'+today+'.csv',index=False)\n",
    "df_transcripts_noprob[[i for i in df_transcripts_noprob.columns.values if i != 'transcriber']].to_csv('transcripts_noid'+today+'.csv',index=False)\n",
    "minutes_transcribed_noprob = df_transcripts_noprob['length'].sum()/60\n",
    "print(\"Utterances transcribed: \"+str(num_utterances_noprob)+\"\\nAudio transcribed: \"+str(round(minutes_transcribed_noprob/60,1))+\" hours\")"
   ]
  },
  {
   "cell_type": "code",
   "execution_count": 16,
   "metadata": {
    "scrolled": true
   },
   "outputs": [
    {
     "data": {
      "text/html": [
       "<div>\n",
       "<style scoped>\n",
       "    .dataframe tbody tr th:only-of-type {\n",
       "        vertical-align: middle;\n",
       "    }\n",
       "\n",
       "    .dataframe tbody tr th {\n",
       "        vertical-align: top;\n",
       "    }\n",
       "\n",
       "    .dataframe thead th {\n",
       "        text-align: right;\n",
       "    }\n",
       "</style>\n",
       "<table border=\"1\" class=\"dataframe\">\n",
       "  <thead>\n",
       "    <tr style=\"text-align: right;\">\n",
       "      <th></th>\n",
       "      <th>file</th>\n",
       "    </tr>\n",
       "    <tr>\n",
       "      <th>transcriber</th>\n",
       "      <th></th>\n",
       "    </tr>\n",
       "  </thead>\n",
       "  <tbody>\n",
       "    <tr>\n",
       "      <th>aekim22</th>\n",
       "      <td>3.0</td>\n",
       "    </tr>\n",
       "    <tr>\n",
       "      <th>alexjrosado</th>\n",
       "      <td>3.0</td>\n",
       "    </tr>\n",
       "    <tr>\n",
       "      <th>aliasmith</th>\n",
       "      <td>4.0</td>\n",
       "    </tr>\n",
       "    <tr>\n",
       "      <th>chu16</th>\n",
       "      <td>2.0</td>\n",
       "    </tr>\n",
       "    <tr>\n",
       "      <th>clarkmoody</th>\n",
       "      <td>2.0</td>\n",
       "    </tr>\n",
       "    <tr>\n",
       "      <th>hszymanek</th>\n",
       "      <td>9.0</td>\n",
       "    </tr>\n",
       "    <tr>\n",
       "      <th>huthealex</th>\n",
       "      <td>3.0</td>\n",
       "    </tr>\n",
       "    <tr>\n",
       "      <th>kayawest</th>\n",
       "      <td>1.0</td>\n",
       "    </tr>\n",
       "    <tr>\n",
       "      <th>kjcoleman</th>\n",
       "      <td>3.4</td>\n",
       "    </tr>\n",
       "    <tr>\n",
       "      <th>kristinakim</th>\n",
       "      <td>0.6</td>\n",
       "    </tr>\n",
       "    <tr>\n",
       "      <th>mhayford</th>\n",
       "      <td>7.2</td>\n",
       "    </tr>\n",
       "    <tr>\n",
       "      <th>mirandgw</th>\n",
       "      <td>6.6</td>\n",
       "    </tr>\n",
       "    <tr>\n",
       "      <th>oabiona</th>\n",
       "      <td>1.0</td>\n",
       "    </tr>\n",
       "    <tr>\n",
       "      <th>ryanhathaway</th>\n",
       "      <td>4.0</td>\n",
       "    </tr>\n",
       "    <tr>\n",
       "      <th>sabajohnson</th>\n",
       "      <td>13.6</td>\n",
       "    </tr>\n",
       "    <tr>\n",
       "      <th>tcjacksonsaitz</th>\n",
       "      <td>5.0</td>\n",
       "    </tr>\n",
       "    <tr>\n",
       "      <th>wahid</th>\n",
       "      <td>3.0</td>\n",
       "    </tr>\n",
       "    <tr>\n",
       "      <th>wdolan</th>\n",
       "      <td>8.0</td>\n",
       "    </tr>\n",
       "    <tr>\n",
       "      <th>xuranzeng</th>\n",
       "      <td>1.0</td>\n",
       "    </tr>\n",
       "  </tbody>\n",
       "</table>\n",
       "</div>"
      ],
      "text/plain": [
       "                file\n",
       "transcriber         \n",
       "aekim22          3.0\n",
       "alexjrosado      3.0\n",
       "aliasmith        4.0\n",
       "chu16            2.0\n",
       "clarkmoody       2.0\n",
       "hszymanek        9.0\n",
       "huthealex        3.0\n",
       "kayawest         1.0\n",
       "kjcoleman        3.4\n",
       "kristinakim      0.6\n",
       "mhayford         7.2\n",
       "mirandgw         6.6\n",
       "oabiona          1.0\n",
       "ryanhathaway     4.0\n",
       "sabajohnson     13.6\n",
       "tcjacksonsaitz   5.0\n",
       "wahid            3.0\n",
       "wdolan           8.0\n",
       "xuranzeng        1.0"
      ]
     },
     "execution_count": 16,
     "metadata": {},
     "output_type": "execute_result"
    }
   ],
   "source": [
    "df_transcripts_noprob[['transcriber','file']].drop_duplicates().groupby('transcriber').count()/5"
   ]
  },
  {
   "cell_type": "code",
   "execution_count": 17,
   "metadata": {},
   "outputs": [
    {
     "data": {
      "text/html": [
       "<div>\n",
       "<style scoped>\n",
       "    .dataframe tbody tr th:only-of-type {\n",
       "        vertical-align: middle;\n",
       "    }\n",
       "\n",
       "    .dataframe tbody tr th {\n",
       "        vertical-align: top;\n",
       "    }\n",
       "\n",
       "    .dataframe thead th {\n",
       "        text-align: right;\n",
       "    }\n",
       "</style>\n",
       "<table border=\"1\" class=\"dataframe\">\n",
       "  <thead>\n",
       "    <tr style=\"text-align: right;\">\n",
       "      <th></th>\n",
       "      <th>transcriber</th>\n",
       "      <th>minutes</th>\n",
       "      <th>percent</th>\n",
       "    </tr>\n",
       "  </thead>\n",
       "  <tbody>\n",
       "    <tr>\n",
       "      <th>0</th>\n",
       "      <td>aekim22</td>\n",
       "      <td>69.652000</td>\n",
       "      <td>3.6</td>\n",
       "    </tr>\n",
       "    <tr>\n",
       "      <th>1</th>\n",
       "      <td>alexjrosado</td>\n",
       "      <td>99.247200</td>\n",
       "      <td>5.2</td>\n",
       "    </tr>\n",
       "    <tr>\n",
       "      <th>2</th>\n",
       "      <td>aliasmith</td>\n",
       "      <td>162.042867</td>\n",
       "      <td>8.5</td>\n",
       "    </tr>\n",
       "    <tr>\n",
       "      <th>3</th>\n",
       "      <td>chu16</td>\n",
       "      <td>64.519567</td>\n",
       "      <td>3.4</td>\n",
       "    </tr>\n",
       "    <tr>\n",
       "      <th>4</th>\n",
       "      <td>clarkmoody</td>\n",
       "      <td>46.757383</td>\n",
       "      <td>2.4</td>\n",
       "    </tr>\n",
       "    <tr>\n",
       "      <th>5</th>\n",
       "      <td>hszymanek</td>\n",
       "      <td>148.449978</td>\n",
       "      <td>7.8</td>\n",
       "    </tr>\n",
       "    <tr>\n",
       "      <th>6</th>\n",
       "      <td>huthealex</td>\n",
       "      <td>57.835240</td>\n",
       "      <td>3.0</td>\n",
       "    </tr>\n",
       "    <tr>\n",
       "      <th>7</th>\n",
       "      <td>kayawest</td>\n",
       "      <td>11.156917</td>\n",
       "      <td>0.6</td>\n",
       "    </tr>\n",
       "    <tr>\n",
       "      <th>8</th>\n",
       "      <td>kjcoleman</td>\n",
       "      <td>67.637773</td>\n",
       "      <td>3.5</td>\n",
       "    </tr>\n",
       "    <tr>\n",
       "      <th>9</th>\n",
       "      <td>kristinakim</td>\n",
       "      <td>15.433217</td>\n",
       "      <td>0.8</td>\n",
       "    </tr>\n",
       "    <tr>\n",
       "      <th>10</th>\n",
       "      <td>mhayford</td>\n",
       "      <td>131.045032</td>\n",
       "      <td>6.8</td>\n",
       "    </tr>\n",
       "    <tr>\n",
       "      <th>11</th>\n",
       "      <td>mirandgw</td>\n",
       "      <td>161.853507</td>\n",
       "      <td>8.5</td>\n",
       "    </tr>\n",
       "    <tr>\n",
       "      <th>12</th>\n",
       "      <td>oabiona</td>\n",
       "      <td>20.596717</td>\n",
       "      <td>1.1</td>\n",
       "    </tr>\n",
       "    <tr>\n",
       "      <th>13</th>\n",
       "      <td>ryanhathaway</td>\n",
       "      <td>69.752850</td>\n",
       "      <td>3.6</td>\n",
       "    </tr>\n",
       "    <tr>\n",
       "      <th>14</th>\n",
       "      <td>sabajohnson</td>\n",
       "      <td>410.976475</td>\n",
       "      <td>21.5</td>\n",
       "    </tr>\n",
       "    <tr>\n",
       "      <th>15</th>\n",
       "      <td>tcjacksonsaitz</td>\n",
       "      <td>110.114500</td>\n",
       "      <td>5.7</td>\n",
       "    </tr>\n",
       "    <tr>\n",
       "      <th>16</th>\n",
       "      <td>wahid</td>\n",
       "      <td>64.150928</td>\n",
       "      <td>3.3</td>\n",
       "    </tr>\n",
       "    <tr>\n",
       "      <th>17</th>\n",
       "      <td>wdolan</td>\n",
       "      <td>184.923067</td>\n",
       "      <td>9.7</td>\n",
       "    </tr>\n",
       "    <tr>\n",
       "      <th>18</th>\n",
       "      <td>xuranzeng</td>\n",
       "      <td>19.194817</td>\n",
       "      <td>1.0</td>\n",
       "    </tr>\n",
       "  </tbody>\n",
       "</table>\n",
       "</div>"
      ],
      "text/plain": [
       "       transcriber     minutes  percent\n",
       "0          aekim22   69.652000      3.6\n",
       "1      alexjrosado   99.247200      5.2\n",
       "2        aliasmith  162.042867      8.5\n",
       "3            chu16   64.519567      3.4\n",
       "4       clarkmoody   46.757383      2.4\n",
       "5        hszymanek  148.449978      7.8\n",
       "6        huthealex   57.835240      3.0\n",
       "7         kayawest   11.156917      0.6\n",
       "8        kjcoleman   67.637773      3.5\n",
       "9      kristinakim   15.433217      0.8\n",
       "10        mhayford  131.045032      6.8\n",
       "11        mirandgw  161.853507      8.5\n",
       "12         oabiona   20.596717      1.1\n",
       "13    ryanhathaway   69.752850      3.6\n",
       "14     sabajohnson  410.976475     21.5\n",
       "15  tcjacksonsaitz  110.114500      5.7\n",
       "16           wahid   64.150928      3.3\n",
       "17          wdolan  184.923067      9.7\n",
       "18       xuranzeng   19.194817      1.0"
      ]
     },
     "execution_count": 17,
     "metadata": {},
     "output_type": "execute_result"
    }
   ],
   "source": [
    "df_total_minutes = df_transcripts_noprob.groupby('transcriber')['length'].sum()/60\n",
    "df_total_minutes = df_total_minutes.reset_index()\n",
    "df_total_minutes = df_total_minutes.rename(columns={'length':'minutes'})\n",
    "df_total_minutes.to_csv('minutes_transcribed'+today+'.csv',index=False)\n",
    "df_total_minutes['percent'] = round(100*df_total_minutes['minutes']/df_total_minutes['minutes'].sum(),1)\n",
    "df_total_minutes"
   ]
  },
  {
   "cell_type": "code",
   "execution_count": 18,
   "metadata": {},
   "outputs": [],
   "source": [
    "def modification_date(file):\n",
    "    t = os.path.getmtime(file)\n",
    "    return datetime.fromtimestamp(t)\n",
    "def get_mod_date(x):\n",
    "    transcriber, zone, file = x\n",
    "    mod_date = modification_date(transcriber+'/'+zone+'/'+file)\n",
    "    return mod_date"
   ]
  },
  {
   "cell_type": "code",
   "execution_count": 19,
   "metadata": {},
   "outputs": [
    {
     "data": {
      "text/html": [
       "<div>\n",
       "<style scoped>\n",
       "    .dataframe tbody tr th:only-of-type {\n",
       "        vertical-align: middle;\n",
       "    }\n",
       "\n",
       "    .dataframe tbody tr th {\n",
       "        vertical-align: top;\n",
       "    }\n",
       "\n",
       "    .dataframe thead th {\n",
       "        text-align: right;\n",
       "    }\n",
       "</style>\n",
       "<table border=\"1\" class=\"dataframe\">\n",
       "  <thead>\n",
       "    <tr style=\"text-align: right;\">\n",
       "      <th></th>\n",
       "      <th>transcriber</th>\n",
       "      <th>zone</th>\n",
       "      <th>file</th>\n",
       "      <th>mod_date</th>\n",
       "      <th>week_num</th>\n",
       "    </tr>\n",
       "  </thead>\n",
       "  <tbody>\n",
       "    <tr>\n",
       "      <th>0</th>\n",
       "      <td>huthealex</td>\n",
       "      <td>Zone1</td>\n",
       "      <td>201808120932-28710-27730ah.xlsx</td>\n",
       "      <td>2021-04-12 16:53:43</td>\n",
       "      <td>15</td>\n",
       "    </tr>\n",
       "    <tr>\n",
       "      <th>1</th>\n",
       "      <td>huthealex</td>\n",
       "      <td>Zone1</td>\n",
       "      <td>201808120304-366043-27730ah.xlsx</td>\n",
       "      <td>2021-04-02 13:35:25</td>\n",
       "      <td>13</td>\n",
       "    </tr>\n",
       "    <tr>\n",
       "      <th>2</th>\n",
       "      <td>huthealex</td>\n",
       "      <td>Zone1</td>\n",
       "      <td>201808120902-41159-27730ah.xlsx</td>\n",
       "      <td>2021-04-12 16:53:43</td>\n",
       "      <td>15</td>\n",
       "    </tr>\n",
       "    <tr>\n",
       "      <th>3</th>\n",
       "      <td>huthealex</td>\n",
       "      <td>Zone1</td>\n",
       "      <td>201808120234-654163-27730ah.xlsx</td>\n",
       "      <td>2021-04-01 09:54:21</td>\n",
       "      <td>13</td>\n",
       "    </tr>\n",
       "    <tr>\n",
       "      <th>4</th>\n",
       "      <td>huthealex</td>\n",
       "      <td>Zone1</td>\n",
       "      <td>201808120135-851247-27730ah.xlsx</td>\n",
       "      <td>2021-04-02 13:37:11</td>\n",
       "      <td>13</td>\n",
       "    </tr>\n",
       "  </tbody>\n",
       "</table>\n",
       "</div>"
      ],
      "text/plain": [
       "  transcriber   zone                              file            mod_date  \\\n",
       "0   huthealex  Zone1   201808120932-28710-27730ah.xlsx 2021-04-12 16:53:43   \n",
       "1   huthealex  Zone1  201808120304-366043-27730ah.xlsx 2021-04-02 13:35:25   \n",
       "2   huthealex  Zone1   201808120902-41159-27730ah.xlsx 2021-04-12 16:53:43   \n",
       "3   huthealex  Zone1  201808120234-654163-27730ah.xlsx 2021-04-01 09:54:21   \n",
       "4   huthealex  Zone1  201808120135-851247-27730ah.xlsx 2021-04-02 13:37:11   \n",
       "\n",
       "   week_num  \n",
       "0        15  \n",
       "1        13  \n",
       "2        15  \n",
       "3        13  \n",
       "4        13  "
      ]
     },
     "execution_count": 19,
     "metadata": {},
     "output_type": "execute_result"
    }
   ],
   "source": [
    "df_files = df_transcripts[['transcriber','zone','file']].drop_duplicates().reset_index(drop=True)\n",
    "df_files['mod_date'] = df_files.apply(lambda x: get_mod_date(x),axis=1)\n",
    "df_files['week_num'] = df_files['mod_date'].apply(lambda x: (x + timedelta(days=1)).week)\n",
    "df_files.head()"
   ]
  },
  {
   "cell_type": "code",
   "execution_count": 20,
   "metadata": {},
   "outputs": [
    {
     "ename": "KeyError",
     "evalue": "\"['length_s'] not in index\"",
     "output_type": "error",
     "traceback": [
      "\u001b[0;31m---------------------------------------------------------------------------\u001b[0m",
      "\u001b[0;31mKeyError\u001b[0m                                  Traceback (most recent call last)",
      "\u001b[0;32m~/ipykernel_445020/2811849074.py\u001b[0m in \u001b[0;36m<module>\u001b[0;34m\u001b[0m\n\u001b[0;32m----> 1\u001b[0;31m \u001b[0mdf_temp\u001b[0m \u001b[0;34m=\u001b[0m \u001b[0mdf_transcripts_noprob\u001b[0m\u001b[0;34m[\u001b[0m\u001b[0;34m[\u001b[0m\u001b[0;34m'transcriber'\u001b[0m\u001b[0;34m,\u001b[0m\u001b[0;34m'zone'\u001b[0m\u001b[0;34m,\u001b[0m\u001b[0;34m'file'\u001b[0m\u001b[0;34m,\u001b[0m\u001b[0;34m'length_s'\u001b[0m\u001b[0;34m]\u001b[0m\u001b[0;34m]\u001b[0m\u001b[0;34m.\u001b[0m\u001b[0mmerge\u001b[0m\u001b[0;34m(\u001b[0m\u001b[0mdf_files\u001b[0m\u001b[0;34m[\u001b[0m\u001b[0;34m[\u001b[0m\u001b[0;34m'transcriber'\u001b[0m\u001b[0;34m,\u001b[0m\u001b[0;34m'zone'\u001b[0m\u001b[0;34m,\u001b[0m\u001b[0;34m'file'\u001b[0m\u001b[0;34m,\u001b[0m\u001b[0;34m'week_num'\u001b[0m\u001b[0;34m]\u001b[0m\u001b[0;34m]\u001b[0m\u001b[0;34m,\u001b[0m\u001b[0mon\u001b[0m\u001b[0;34m=\u001b[0m\u001b[0;34m[\u001b[0m\u001b[0;34m'transcriber'\u001b[0m\u001b[0;34m,\u001b[0m\u001b[0;34m'zone'\u001b[0m\u001b[0;34m,\u001b[0m\u001b[0;34m'file'\u001b[0m\u001b[0;34m]\u001b[0m\u001b[0;34m)\u001b[0m\u001b[0;34m\u001b[0m\u001b[0;34m\u001b[0m\u001b[0m\n\u001b[0m\u001b[1;32m      2\u001b[0m \u001b[0mdf_temp\u001b[0m\u001b[0;34m.\u001b[0m\u001b[0mhead\u001b[0m\u001b[0;34m(\u001b[0m\u001b[0;34m)\u001b[0m\u001b[0;34m\u001b[0m\u001b[0;34m\u001b[0m\u001b[0m\n",
      "\u001b[0;32m~/.conda/envs/deepspeech/lib/python3.9/site-packages/pandas/core/frame.py\u001b[0m in \u001b[0;36m__getitem__\u001b[0;34m(self, key)\u001b[0m\n\u001b[1;32m   3459\u001b[0m             \u001b[0;32mif\u001b[0m \u001b[0mis_iterator\u001b[0m\u001b[0;34m(\u001b[0m\u001b[0mkey\u001b[0m\u001b[0;34m)\u001b[0m\u001b[0;34m:\u001b[0m\u001b[0;34m\u001b[0m\u001b[0;34m\u001b[0m\u001b[0m\n\u001b[1;32m   3460\u001b[0m                 \u001b[0mkey\u001b[0m \u001b[0;34m=\u001b[0m \u001b[0mlist\u001b[0m\u001b[0;34m(\u001b[0m\u001b[0mkey\u001b[0m\u001b[0;34m)\u001b[0m\u001b[0;34m\u001b[0m\u001b[0;34m\u001b[0m\u001b[0m\n\u001b[0;32m-> 3461\u001b[0;31m             \u001b[0mindexer\u001b[0m \u001b[0;34m=\u001b[0m \u001b[0mself\u001b[0m\u001b[0;34m.\u001b[0m\u001b[0mloc\u001b[0m\u001b[0;34m.\u001b[0m\u001b[0m_get_listlike_indexer\u001b[0m\u001b[0;34m(\u001b[0m\u001b[0mkey\u001b[0m\u001b[0;34m,\u001b[0m \u001b[0maxis\u001b[0m\u001b[0;34m=\u001b[0m\u001b[0;36m1\u001b[0m\u001b[0;34m)\u001b[0m\u001b[0;34m[\u001b[0m\u001b[0;36m1\u001b[0m\u001b[0;34m]\u001b[0m\u001b[0;34m\u001b[0m\u001b[0;34m\u001b[0m\u001b[0m\n\u001b[0m\u001b[1;32m   3462\u001b[0m \u001b[0;34m\u001b[0m\u001b[0m\n\u001b[1;32m   3463\u001b[0m         \u001b[0;31m# take() does not accept boolean indexers\u001b[0m\u001b[0;34m\u001b[0m\u001b[0;34m\u001b[0m\u001b[0;34m\u001b[0m\u001b[0m\n",
      "\u001b[0;32m~/.conda/envs/deepspeech/lib/python3.9/site-packages/pandas/core/indexing.py\u001b[0m in \u001b[0;36m_get_listlike_indexer\u001b[0;34m(self, key, axis)\u001b[0m\n\u001b[1;32m   1312\u001b[0m             \u001b[0mkeyarr\u001b[0m\u001b[0;34m,\u001b[0m \u001b[0mindexer\u001b[0m\u001b[0;34m,\u001b[0m \u001b[0mnew_indexer\u001b[0m \u001b[0;34m=\u001b[0m \u001b[0max\u001b[0m\u001b[0;34m.\u001b[0m\u001b[0m_reindex_non_unique\u001b[0m\u001b[0;34m(\u001b[0m\u001b[0mkeyarr\u001b[0m\u001b[0;34m)\u001b[0m\u001b[0;34m\u001b[0m\u001b[0;34m\u001b[0m\u001b[0m\n\u001b[1;32m   1313\u001b[0m \u001b[0;34m\u001b[0m\u001b[0m\n\u001b[0;32m-> 1314\u001b[0;31m         \u001b[0mself\u001b[0m\u001b[0;34m.\u001b[0m\u001b[0m_validate_read_indexer\u001b[0m\u001b[0;34m(\u001b[0m\u001b[0mkeyarr\u001b[0m\u001b[0;34m,\u001b[0m \u001b[0mindexer\u001b[0m\u001b[0;34m,\u001b[0m \u001b[0maxis\u001b[0m\u001b[0;34m)\u001b[0m\u001b[0;34m\u001b[0m\u001b[0;34m\u001b[0m\u001b[0m\n\u001b[0m\u001b[1;32m   1315\u001b[0m \u001b[0;34m\u001b[0m\u001b[0m\n\u001b[1;32m   1316\u001b[0m         if needs_i8_conversion(ax.dtype) or isinstance(\n",
      "\u001b[0;32m~/.conda/envs/deepspeech/lib/python3.9/site-packages/pandas/core/indexing.py\u001b[0m in \u001b[0;36m_validate_read_indexer\u001b[0;34m(self, key, indexer, axis)\u001b[0m\n\u001b[1;32m   1375\u001b[0m \u001b[0;34m\u001b[0m\u001b[0m\n\u001b[1;32m   1376\u001b[0m             \u001b[0mnot_found\u001b[0m \u001b[0;34m=\u001b[0m \u001b[0mlist\u001b[0m\u001b[0;34m(\u001b[0m\u001b[0mensure_index\u001b[0m\u001b[0;34m(\u001b[0m\u001b[0mkey\u001b[0m\u001b[0;34m)\u001b[0m\u001b[0;34m[\u001b[0m\u001b[0mmissing_mask\u001b[0m\u001b[0;34m.\u001b[0m\u001b[0mnonzero\u001b[0m\u001b[0;34m(\u001b[0m\u001b[0;34m)\u001b[0m\u001b[0;34m[\u001b[0m\u001b[0;36m0\u001b[0m\u001b[0;34m]\u001b[0m\u001b[0;34m]\u001b[0m\u001b[0;34m.\u001b[0m\u001b[0munique\u001b[0m\u001b[0;34m(\u001b[0m\u001b[0;34m)\u001b[0m\u001b[0;34m)\u001b[0m\u001b[0;34m\u001b[0m\u001b[0;34m\u001b[0m\u001b[0m\n\u001b[0;32m-> 1377\u001b[0;31m             \u001b[0;32mraise\u001b[0m \u001b[0mKeyError\u001b[0m\u001b[0;34m(\u001b[0m\u001b[0;34mf\"{not_found} not in index\"\u001b[0m\u001b[0;34m)\u001b[0m\u001b[0;34m\u001b[0m\u001b[0;34m\u001b[0m\u001b[0m\n\u001b[0m\u001b[1;32m   1378\u001b[0m \u001b[0;34m\u001b[0m\u001b[0m\n\u001b[1;32m   1379\u001b[0m \u001b[0;34m\u001b[0m\u001b[0m\n",
      "\u001b[0;31mKeyError\u001b[0m: \"['length_s'] not in index\""
     ]
    }
   ],
   "source": [
    "df_temp = df_transcripts_noprob[['transcriber','zone','file','length_s']].merge(df_files[['transcriber','zone','file','week_num']],on=['transcriber','zone','file'])\n",
    "df_temp.head()"
   ]
  },
  {
   "cell_type": "code",
   "execution_count": null,
   "metadata": {},
   "outputs": [],
   "source": [
    "df_temp['week_num'].describe()"
   ]
  },
  {
   "cell_type": "code",
   "execution_count": null,
   "metadata": {},
   "outputs": [],
   "source": [
    "df_temp.groupby(['week_num'])['length_s'].sum()/60"
   ]
  },
  {
   "cell_type": "code",
   "execution_count": null,
   "metadata": {},
   "outputs": [],
   "source": [
    "df_productivity = df_temp.groupby(['transcriber','week_num'])['length_s'].sum().reset_index()\n",
    "df_productivity['length_m'] = df_productivity['length_s']/60\n",
    "df_productivity"
   ]
  },
  {
   "cell_type": "code",
   "execution_count": null,
   "metadata": {},
   "outputs": [],
   "source": [
    "df_weekly_hours = pd.read_csv('weekly_hours.csv')\n",
    "df_productivity = df_productivity.merge(df_weekly_hours,left_on=['transcriber','week_num'],right_on=['User','week_num'])\n",
    "df_productivity.drop(columns=['length_s','User'],inplace=True)\n",
    "df_productivity['rate'] = (df_productivity['session_hours']*60)/df_productivity['length_m']\n",
    "df_productivity.head()"
   ]
  },
  {
   "cell_type": "code",
   "execution_count": null,
   "metadata": {},
   "outputs": [],
   "source": [
    "df_productivity.groupby(['transcriber'])['rate'].describe()"
   ]
  },
  {
   "cell_type": "code",
   "execution_count": null,
   "metadata": {},
   "outputs": [],
   "source": [
    "df_productivity_weekly = df_productivity.groupby(['week_num'])[['length_m','session_hours']].agg(sum)\n",
    "df_productivity_weekly['rate'] = (df_productivity_weekly['session_hours']*60)/df_productivity_weekly['length_m']\n",
    "df_productivity_weekly"
   ]
  },
  {
   "cell_type": "code",
   "execution_count": null,
   "metadata": {},
   "outputs": [],
   "source": [
    "df_productivity_weekly.plot.bar(y='length_m')"
   ]
  },
  {
   "cell_type": "code",
   "execution_count": null,
   "metadata": {},
   "outputs": [],
   "source": [
    "df_total_transcribed = df_productivity_weekly['length_m'].cumsum().reset_index()\n",
    "df_total_transcribed['Total Hours'] = df_total_transcribed['length_m']/60\n",
    "df_total_transcribed.plot.bar(x='week_num',y='Total Hours')"
   ]
  },
  {
   "cell_type": "code",
   "execution_count": null,
   "metadata": {},
   "outputs": [],
   "source": [
    "df_productivity_weekly['rate'].plot()"
   ]
  },
  {
   "cell_type": "code",
   "execution_count": null,
   "metadata": {},
   "outputs": [],
   "source": [
    "# Assume 20 min to transcribe 1 min of audio, and 18.4 hrs of 100 hrs of audio are complete\n",
    "transcription_rate = 20\n",
    "minutes_to_transcribe = (100-minutes_transcribed_noprob/60)*60\n",
    "hours_work_remaining = (minutes_to_transcribe*transcription_rate)/60\n",
    "# Assume 20 hrs/week per transcriber\n",
    "transcriber_weeks = hours_work_remaining/20\n",
    "# Assume 6 transcribers\n",
    "transcriber_weeks/6"
   ]
  },
  {
   "cell_type": "code",
   "execution_count": null,
   "metadata": {},
   "outputs": [],
   "source": [
    "t = df_productivity.groupby(['week_num'])['length_m'].sum().reset_index()\n",
    "t"
   ]
  },
  {
   "cell_type": "code",
   "execution_count": null,
   "metadata": {},
   "outputs": [],
   "source": []
  },
  {
   "cell_type": "code",
   "execution_count": null,
   "metadata": {},
   "outputs": [],
   "source": []
  },
  {
   "cell_type": "code",
   "execution_count": null,
   "metadata": {},
   "outputs": [],
   "source": []
  },
  {
   "cell_type": "code",
   "execution_count": null,
   "metadata": {},
   "outputs": [],
   "source": []
  },
  {
   "cell_type": "code",
   "execution_count": null,
   "metadata": {},
   "outputs": [],
   "source": [
    "(100-minutes_transcribed_noprob/60)*60*10/60"
   ]
  },
  {
   "cell_type": "code",
   "execution_count": null,
   "metadata": {},
   "outputs": [],
   "source": [
    "minutes_to_transcribe, hours_work_remaining, transcriber_weeks"
   ]
  },
  {
   "cell_type": "code",
   "execution_count": null,
   "metadata": {},
   "outputs": [],
   "source": [
    "transcriber_weeks/6"
   ]
  },
  {
   "cell_type": "code",
   "execution_count": null,
   "metadata": {},
   "outputs": [],
   "source": []
  },
  {
   "cell_type": "code",
   "execution_count": null,
   "metadata": {},
   "outputs": [],
   "source": []
  }
 ],
 "metadata": {
  "kernelspec": {
   "display_name": "Python 3 (ipykernel)",
   "language": "python",
   "name": "python3"
  },
  "language_info": {
   "codemirror_mode": {
    "name": "ipython",
    "version": 3
   },
   "file_extension": ".py",
   "mimetype": "text/x-python",
   "name": "python",
   "nbconvert_exporter": "python",
   "pygments_lexer": "ipython3",
   "version": "3.9.6"
  }
 },
 "nbformat": 4,
 "nbformat_minor": 4
}
