{
 "cells": [
  {
   "cell_type": "code",
   "execution_count": 1,
   "metadata": {},
   "outputs": [],
   "source": [
    "import numpy as np\n",
    "import librosa\n",
    "import os\n",
    "import pandas as pd\n",
    "import matplotlib.pyplot as plt\n",
    "from glob import glob\n",
    "import torchaudio"
   ]
  },
  {
   "cell_type": "code",
   "execution_count": 3,
   "metadata": {},
   "outputs": [
    {
     "name": "stdout",
     "output_type": "stream",
     "text": [
      "['/project/graziul/data/Zone1/2018_08_04/201808042032-193789-27730.mp3', '/project/graziul/data/Zone1/2018_08_04/201808041434-67097-27730.mp3', '/project/graziul/data/Zone1/2018_08_04/201808041703-149997-27730.mp3', '/project/graziul/data/Zone1/2018_08_04/201808041404-696986-27730.mp3', '/project/graziul/data/Zone1/2018_08_04/201808041135-540482-27730.mp3', '/project/graziul/data/Zone1/2018_08_04/201808042231-612241-27730.mp3', '/project/graziul/data/Zone1/2018_08_04/201808041733-277547-27730.mp3', '/project/graziul/data/Zone1/2018_08_04/201808041234-536320-27730.mp3', '/project/graziul/data/Zone1/2018_08_04/201808040836-586337-27730.mp3', '/project/graziul/data/Zone1/2018_08_04/201808042102-541890-27730.mp3', '/project/graziul/data/Zone1/2018_08_04/201808042201-380390-27730.mp3', '/project/graziul/data/Zone1/2018_08_04/201808041504-822552-27730.mp3', '/project/graziul/data/Zone1/2018_08_04/201808040935-23455-27730.mp3', '/project/graziul/data/Zone1/2018_08_04/201808041334-370955-27730.mp3', '/project/graziul/data/Zone1/2018_08_04/201808041633-224888-27730.mp3', '/project/graziul/data/Zone1/2018_08_04/201808041902-154725-27730.mp3', '/project/graziul/data/Zone1/2018_08_04/201808042301-783049-27730.mp3', '/project/graziul/data/Zone1/2018_08_04/201808041105-758598-27730.mp3', '/project/graziul/data/Zone1/2018_08_04/201808040806-221733-27730.mp3', '/project/graziul/data/Zone1/2018_08_04/201808041833-883631-27730.mp3', '/project/graziul/data/Zone1/2018_08_04/201808041603-996961-27730.mp3', '/project/graziul/data/Zone1/2018_08_04/201808040636-306923-27730.mp3', '/project/graziul/data/Zone1/2018_08_04/201808040706-364235-27730.mp3', '/project/graziul/data/Zone1/2018_08_04/201808041803-756078-27730.mp3', '/project/graziul/data/Zone1/2018_08_04/201808041304-335136-27730.mp3', '/project/graziul/data/Zone1/2018_08_04/201808041005-554826-27730.mp3', '/project/graziul/data/Zone1/2018_08_04/201808041035-643194-27730.mp3', '/project/graziul/data/Zone1/2018_08_04/201808042132-793642-27730.mp3', '/project/graziul/data/Zone1/2018_08_04/201808040736-102899-27730.mp3', '/project/graziul/data/Zone1/2018_08_04/201808040607-817542-27730.mp3', '/project/graziul/data/Zone1/2018_08_04/201808041534-428855-27730.mp3', '/project/graziul/data/Zone1/2018_08_04/201808042002-691422-27730.mp3', '/project/graziul/data/Zone1/2018_08_04/201808041205-792209-27730.mp3', '/project/graziul/data/Zone1/2018_08_04/201808040906-891903-27730.mp3', '/project/graziul/data/Zone1/2018_08_04/201808041932-405936-27730.mp3']\n"
     ]
    }
   ],
   "source": [
    "data_dir = '/project/graziul/data/Zone1/2018_08_04'\n",
    "audio_list = glob(data_dir + '/*.mp3')\n",
    "print(audio_list)"
   ]
  },
  {
   "cell_type": "code",
   "execution_count": 11,
   "metadata": {},
   "outputs": [],
   "source": [
    "zcr_list = []\n",
    "for audio_file in list(clean_df['filename']):\n",
    "    tmpfile,sr = torchaudio.load('/project/graziul/data/' + audio_file)\n",
    "    zcr_list.append(librosa.feature.zero_crossing_rate(np.squeeze(tmpfile.numpy())))"
   ]
  },
  {
   "cell_type": "code",
   "execution_count": 17,
   "metadata": {},
   "outputs": [],
   "source": [
    "clean_df = pd.read_csv('/project/graziul/transcripts/df_va2021_09_17.csv')"
   ]
  },
  {
   "cell_type": "code",
   "execution_count": 21,
   "metadata": {},
   "outputs": [
    {
     "data": {
      "text/html": [
       "<div>\n",
       "<style scoped>\n",
       "    .dataframe tbody tr th:only-of-type {\n",
       "        vertical-align: middle;\n",
       "    }\n",
       "\n",
       "    .dataframe tbody tr th {\n",
       "        vertical-align: top;\n",
       "    }\n",
       "\n",
       "    .dataframe thead th {\n",
       "        text-align: right;\n",
       "    }\n",
       "</style>\n",
       "<table border=\"1\" class=\"dataframe\">\n",
       "  <thead>\n",
       "    <tr style=\"text-align: right;\">\n",
       "      <th></th>\n",
       "      <th>Unnamed: 0</th>\n",
       "      <th>zone</th>\n",
       "      <th>date</th>\n",
       "      <th>filename</th>\n",
       "      <th>start_voice</th>\n",
       "      <th>end_voice</th>\n",
       "      <th>transcripts_agree</th>\n",
       "      <th>transcriber1</th>\n",
       "      <th>transcription1</th>\n",
       "      <th>transcriber2</th>\n",
       "      <th>transcription2</th>\n",
       "    </tr>\n",
       "  </thead>\n",
       "  <tbody>\n",
       "    <tr>\n",
       "      <th>0</th>\n",
       "      <td>2662</td>\n",
       "      <td>Zone1</td>\n",
       "      <td>2018_08_04</td>\n",
       "      <td>201808042331-339616-27730.mp3</td>\n",
       "      <td>75.597</td>\n",
       "      <td>81.386</td>\n",
       "      <td>False</td>\n",
       "      <td>mgw</td>\n",
       "      <td>RESIDENTIAL ALARM FOURTY THIRTY ONE PATTERSON ...</td>\n",
       "      <td>kjc</td>\n",
       "      <td>RESIDENTIAL ALARM FORTY THIRTY ONE PATTERSON T...</td>\n",
       "    </tr>\n",
       "    <tr>\n",
       "      <th>1</th>\n",
       "      <td>2663</td>\n",
       "      <td>Zone1</td>\n",
       "      <td>2018_08_04</td>\n",
       "      <td>201808042331-339616-27730.mp3</td>\n",
       "      <td>96.398</td>\n",
       "      <td>100.190</td>\n",
       "      <td>False</td>\n",
       "      <td>mgw</td>\n",
       "      <td>I NEED A RESULT FOR A BOOKING ON ARAGON ALBANY</td>\n",
       "      <td>kjc</td>\n",
       "      <td>CAN YOU PUT US DOWN FOR A UNCERTAIN ON UNCERTA...</td>\n",
       "    </tr>\n",
       "    <tr>\n",
       "      <th>2</th>\n",
       "      <td>2664</td>\n",
       "      <td>Zone1</td>\n",
       "      <td>2018_08_04</td>\n",
       "      <td>201808042331-339616-27730.mp3</td>\n",
       "      <td>331.941</td>\n",
       "      <td>334.836</td>\n",
       "      <td>False</td>\n",
       "      <td>mgw</td>\n",
       "      <td>TRAFFIC STOP SIXTY ONE FOURTY FIVE NORTH WEST ...</td>\n",
       "      <td>kjc</td>\n",
       "      <td>TRAFFIC STOP AT TWO ONE FORTY FIVE STREET NAME...</td>\n",
       "    </tr>\n",
       "    <tr>\n",
       "      <th>3</th>\n",
       "      <td>2665</td>\n",
       "      <td>Zone1</td>\n",
       "      <td>2018_08_04</td>\n",
       "      <td>201808042331-339616-27730.mp3</td>\n",
       "      <td>348.097</td>\n",
       "      <td>355.562</td>\n",
       "      <td>False</td>\n",
       "      <td>mgw</td>\n",
       "      <td>THEY SENT A FORCE TO INVOLVE CONCERN CITIZEN W...</td>\n",
       "      <td>kjc</td>\n",
       "      <td>THEY SAID A FOUR TWENTY FOUR OR FIVE CONCERNED...</td>\n",
       "    </tr>\n",
       "    <tr>\n",
       "      <th>4</th>\n",
       "      <td>2666</td>\n",
       "      <td>Zone1</td>\n",
       "      <td>2018_08_04</td>\n",
       "      <td>201808042331-339616-27730.mp3</td>\n",
       "      <td>368.023</td>\n",
       "      <td>370.985</td>\n",
       "      <td>False</td>\n",
       "      <td>mgw</td>\n",
       "      <td>MO WITH DAL WITH SIXTEEN THIRTY THREE ROBERT S...</td>\n",
       "      <td>kjc</td>\n",
       "      <td>WELL LINK UP WITH SIXTEEN THIRTY THREE ROBERT ...</td>\n",
       "    </tr>\n",
       "  </tbody>\n",
       "</table>\n",
       "</div>"
      ],
      "text/plain": [
       "   Unnamed: 0   zone        date                       filename  start_voice  \\\n",
       "0        2662  Zone1  2018_08_04  201808042331-339616-27730.mp3       75.597   \n",
       "1        2663  Zone1  2018_08_04  201808042331-339616-27730.mp3       96.398   \n",
       "2        2664  Zone1  2018_08_04  201808042331-339616-27730.mp3      331.941   \n",
       "3        2665  Zone1  2018_08_04  201808042331-339616-27730.mp3      348.097   \n",
       "4        2666  Zone1  2018_08_04  201808042331-339616-27730.mp3      368.023   \n",
       "\n",
       "   end_voice  transcripts_agree transcriber1  \\\n",
       "0     81.386              False          mgw   \n",
       "1    100.190              False          mgw   \n",
       "2    334.836              False          mgw   \n",
       "3    355.562              False          mgw   \n",
       "4    370.985              False          mgw   \n",
       "\n",
       "                                      transcription1 transcriber2  \\\n",
       "0  RESIDENTIAL ALARM FOURTY THIRTY ONE PATTERSON ...          kjc   \n",
       "1     I NEED A RESULT FOR A BOOKING ON ARAGON ALBANY          kjc   \n",
       "2  TRAFFIC STOP SIXTY ONE FOURTY FIVE NORTH WEST ...          kjc   \n",
       "3  THEY SENT A FORCE TO INVOLVE CONCERN CITIZEN W...          kjc   \n",
       "4  MO WITH DAL WITH SIXTEEN THIRTY THREE ROBERT S...          kjc   \n",
       "\n",
       "                                      transcription2  \n",
       "0  RESIDENTIAL ALARM FORTY THIRTY ONE PATTERSON T...  \n",
       "1  CAN YOU PUT US DOWN FOR A UNCERTAIN ON UNCERTA...  \n",
       "2  TRAFFIC STOP AT TWO ONE FORTY FIVE STREET NAME...  \n",
       "3  THEY SAID A FOUR TWENTY FOUR OR FIVE CONCERNED...  \n",
       "4  WELL LINK UP WITH SIXTEEN THIRTY THREE ROBERT ...  "
      ]
     },
     "execution_count": 21,
     "metadata": {},
     "output_type": "execute_result"
    }
   ],
   "source": [
    "clean_df.head()\n",
    "zone_list = list(clean_df['zone'])\n",
    "date_list = list(clean_df['date'])\n",
    "start_list = list(clean_df['start_voice'])\n",
    "end_list = list(clean_df['end_voice'])\n",
    "agree_list = list(clean_df['trainscrips_agree'])\n"
   ]
  }
 ],
 "metadata": {
  "kernelspec": {
   "display_name": "Python 3",
   "language": "python",
   "name": "python3"
  },
  "language_info": {
   "codemirror_mode": {
    "name": "ipython",
    "version": 3
   },
   "file_extension": ".py",
   "mimetype": "text/x-python",
   "name": "python",
   "nbconvert_exporter": "python",
   "pygments_lexer": "ipython3",
   "version": "3.8.5"
  }
 },
 "nbformat": 4,
 "nbformat_minor": 4
}
