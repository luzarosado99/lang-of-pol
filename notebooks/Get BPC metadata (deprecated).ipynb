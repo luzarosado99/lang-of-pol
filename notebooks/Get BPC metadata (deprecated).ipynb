{
 "cells": [
  {
   "cell_type": "code",
   "execution_count": 1,
   "metadata": {},
   "outputs": [],
   "source": [
    "import pandas as pd\n",
    "import glob, os, pickle\n",
    "\n",
    "base_path='/project2/mbspencer/nih/data/'"
   ]
  },
  {
   "cell_type": "code",
   "execution_count": 2,
   "metadata": {},
   "outputs": [],
   "source": [
    "zones = ['Zone 1', 'Zone 2','Zone 3', 'Zone 4', 'Zone 5','Zone 6','Zone 8','Zone 10','Zone 11','Zone 12','Zone 13']"
   ]
  },
  {
   "cell_type": "code",
   "execution_count": 3,
   "metadata": {},
   "outputs": [
    {
     "name": "stdout",
     "output_type": "stream",
     "text": [
      "Zone 3\n"
     ]
    }
   ],
   "source": [
    "# This needed to run once to pull apart poorly structured vad_metadata_dict\n",
    "'''\n",
    "for zone in zones:\n",
    "    print(zone)\n",
    "    date_path = base_path+zone.replace(' ','')+'/'\n",
    "    dates = [i.split('/')[-1] for i in [j for j in glob.glob(date_path+'*') if ('Zone' in j) and (os.path.isdir(j))] if '20' in i]\n",
    "    dates.sort()\n",
    "    silent_files = []\n",
    "    for date in dates:\n",
    "        vad_metadata_dict = pickle.load(open(base_path+zone.replace(' ','')+'/'+date+'/'+date+'metadata_dict.pkl','rb'))\n",
    "        metadata_dict = {}\n",
    "        vad_dict = {}\n",
    "        files = [i for i in vad_metadata_dict['pydub'].keys() if '.mp3' in i]\n",
    "        for file in files:\n",
    "            # Extract metadata from vad_metadata_dict\n",
    "            metadata_dict[file] = {}\n",
    "            metadata_dict[file]['recording_start'] = vad_metadata_dict['pydub'][file]['recording_start']\n",
    "            try:\n",
    "                metadata_dict[file]['file_length_seconds'] = vad_metadata_dict['pydub']['file_length_seconds'][file]\n",
    "            except:\n",
    "                silent_files.append(file)\n",
    "            metadata_dict['files_total_silence'] = vad_metadata_dict['pydub']['files_total_silence']\n",
    "            metadata_dict['has_silent_files'] = vad_metadata_dict['pydub']['has_silent_files']\n",
    "            metadata_dict['day_length_minutes'] = vad_metadata_dict['pydub']['day_length_minutes']\n",
    "            metadata_dict['complete_data'] = vad_metadata_dict['pydub']['complete_data']\n",
    "            # Extract vad from vad_metadata_dict\n",
    "            thresh = vad_metadata_dict['pydub']['thresh']\n",
    "            if file not in silent_files:\n",
    "                vad_dict[file] = {}\n",
    "                vad_dict[file]['pydub'] = {}\n",
    "                vad_dict[file]['pydub'][thresh] = {}\n",
    "                vad_dict[file]['pydub'][thresh]['nonsilent_slices'] = vad_metadata_dict['pydub'][file]['nonsilent_slices']\n",
    "                vad_dict[file]['pydub'][thresh]['nonsilent_minutes'] = vad_metadata_dict['pydub'][file]['nonsilent_minutes']\n",
    "        pickle.dump(metadata_dict, open(base_path+zone.replace(' ','')+'/'+date+'/'+date+'metadata_dict.pkl','wb'))\n",
    "        pickle.dump(vad_dict, open(base_path+zone.replace(' ','')+'/'+date+'/'+date+'vad_dict.pkl','wb'))    \n",
    "    zone_dict = {}\n",
    "    zone_dict['silent_files'] = silent_files\n",
    "    pickle.dump(zone_dict, open(base_path+'/Metadata/'+zone.replace(' ','')+'metadata.pkl','wb'))\n",
    "'''"
   ]
  },
  {
   "cell_type": "code",
   "execution_count": null,
   "metadata": {},
   "outputs": [],
   "source": []
  },
  {
   "cell_type": "code",
   "execution_count": null,
   "metadata": {},
   "outputs": [],
   "source": []
  },
  {
   "cell_type": "code",
   "execution_count": null,
   "metadata": {},
   "outputs": [],
   "source": []
  },
  {
   "cell_type": "code",
   "execution_count": null,
   "metadata": {},
   "outputs": [],
   "source": []
  }
 ],
 "metadata": {
  "kernelspec": {
   "display_name": "Python 3 (ipykernel)",
   "language": "python",
   "name": "python3"
  },
  "language_info": {
   "codemirror_mode": {
    "name": "ipython",
    "version": 3
   },
   "file_extension": ".py",
   "mimetype": "text/x-python",
   "name": "python",
   "nbconvert_exporter": "python",
   "pygments_lexer": "ipython3",
   "version": "3.9.6"
  }
 },
 "nbformat": 4,
 "nbformat_minor": 4
}
