{
 "cells": [
  {
   "cell_type": "code",
   "execution_count": 1,
   "metadata": {},
   "outputs": [],
   "source": [
    "from multiprocessing import Pool\n",
    "import pandas as pd\n",
    "import glob\n",
    "import pickle \n",
    "import os\n",
    "import sys\n",
    "from timeit import default_timer as timer\n",
    "\n",
    "num_processors = 12\n",
    "#zone='Zone '+str(sys.argv[1])\n",
    "zone = 'Zone 2'"
   ]
  },
  {
   "cell_type": "code",
   "execution_count": 2,
   "metadata": {},
   "outputs": [],
   "source": [
    "import psycopg2\n",
    "\n",
    "DB = psycopg2.connect(\n",
    "host='lop-db.uchicago.edu',\n",
    "database='lop',\n",
    "user='graziul',\n",
    "sslrootcert='lop-db.uchicago.edu.ca',\n",
    "sslcert='lop-db.uchicago.edu-cert.pem',\n",
    "sslkey='lop-db.uchicago.edu-key.pem'\n",
    ")"
   ]
  },
  {
   "cell_type": "code",
   "execution_count": null,
   "metadata": {},
   "outputs": [],
   "source": []
  },
  {
   "cell_type": "code",
   "execution_count": null,
   "metadata": {},
   "outputs": [],
   "source": []
  },
  {
   "cell_type": "code",
   "execution_count": null,
   "metadata": {},
   "outputs": [],
   "source": []
  },
  {
   "cell_type": "code",
   "execution_count": null,
   "metadata": {},
   "outputs": [],
   "source": [
    "audio_path = \"/scratch/midway3/graziul/\""
   ]
  },
  {
   "cell_type": "code",
   "execution_count": null,
   "metadata": {
    "scrolled": true
   },
   "outputs": [],
   "source": [
    "smile = opensmile.Smile(\n",
    "    feature_set=opensmile.FeatureSet.GeMAPSv01b,\n",
    "    feature_level=opensmile.FeatureLevel.LowLevelDescriptors,\n",
    ")\n",
    "smile.feature_names"
   ]
  },
  {
   "cell_type": "code",
   "execution_count": null,
   "metadata": {},
   "outputs": [],
   "source": [
    "\"\"\"\n",
    "smile = opensmile.Smile(\n",
    "    feature_set=opensmile.FeatureSet.eGeMAPSv02,\n",
    "    feature_level=opensmile.FeatureLevel.LowLevelDescriptors,\n",
    ")\n",
    "smile.feature_names\n",
    "\"\"\""
   ]
  },
  {
   "cell_type": "code",
   "execution_count": null,
   "metadata": {},
   "outputs": [],
   "source": [
    "def get_GeMAPSv01b(f, nonsilent_slices):\n",
    "    audio = pydub.AudioSegment.from_mp3(audio_date_path+'/'+f )\n",
    "    nonsilent_audio = pydub.AudioSegment.empty()\n",
    "    for nonsilent_slice in nonsilent_slices:\n",
    "        start, end = nonsilent_slice\n",
    "        # Pad with 250ms on either side\n",
    "        nonsilent_audio += audio[max(0,start-250):min(end+250,len(audio))]\n",
    "    nonsilent_audio_samples = nonsilent_audio.get_array_of_samples()\n",
    "    df = smile.process_signal(nonsilent_audio_samples, audio.frame_rate)\n",
    "    df = df.copy().reset_index()\n",
    "    df['file'] = f\n",
    "    return df"
   ]
  },
  {
   "cell_type": "code",
   "execution_count": null,
   "metadata": {},
   "outputs": [],
   "source": [
    "date_path = audio_path+zone.replace(' ','')+'/'\n",
    "dates = [i.split('/')[-1] for i in glob.glob(date_path+'*') if '20' in i]\n",
    "dates.sort()"
   ]
  },
  {
   "cell_type": "code",
   "execution_count": null,
   "metadata": {},
   "outputs": [],
   "source": [
    "zone_start = timer()\n",
    "for date in dates: \n",
    "    date_start = timer()\n",
    "    audio_date_path = date_path+date+'/'\n",
    "    parquet_file = audio_date_path+date+'gemapsv01b.parquet'\n",
    "    if os.path.isfile(parquet_file):\n",
    "        continue\n",
    "    if len(glob.glob(audio_date_path+'*.mp3'))>0:\n",
    "        vad_dict = pickle.load(open(audio_date_path+date+'vad_dict.pkl','rb'))\n",
    "        nonsilent_slices_dict = {k:vad_dict[k]['pydub'][-24]['nonsilent_slices'] for k in vad_dict}\n",
    "        p = Pool(processes = num_processors)\n",
    "        list_of_dfs = p.starmap(get_GeMAPSv01b,[(f,nonsilent_slices_dict[f]) for f in nonsilent_slices_dict])\n",
    "        p.close()\n",
    "        df = pd.concat(list_of_dfs)\n",
    "        df = df.sort_values(['file','start'])\n",
    "        df.to_parquet(parquet_file)\n",
    "        for f in glob.glob(audio_date_path+'*.mp3'):\n",
    "            os.remove(f)\n",
    "        date_end = timer()\n",
    "        elapsed = round(date_end-date_start)\n",
    "        print(\"Processing\",zone,date,\"took\",elapsed,\"seconds\")\n",
    "zone_end = timer()\n",
    "zone_elapsed = round((zone_end-zone_start)/60)\n",
    "print(\"Processing\",zone,\"took\",str(zone_elapsed),\"minutes\")"
   ]
  },
  {
   "cell_type": "code",
   "execution_count": null,
   "metadata": {},
   "outputs": [],
   "source": [
    "nonsilent_slices_dict"
   ]
  },
  {
   "cell_type": "code",
   "execution_count": null,
   "metadata": {},
   "outputs": [],
   "source": [
    "date"
   ]
  },
  {
   "cell_type": "code",
   "execution_count": null,
   "metadata": {},
   "outputs": [],
   "source": []
  }
 ],
 "metadata": {
  "kernelspec": {
   "display_name": "Python 3 (ipykernel)",
   "language": "python",
   "name": "python3"
  },
  "language_info": {
   "codemirror_mode": {
    "name": "ipython",
    "version": 3
   },
   "file_extension": ".py",
   "mimetype": "text/x-python",
   "name": "python",
   "nbconvert_exporter": "python",
   "pygments_lexer": "ipython3",
   "version": "3.9.6"
  }
 },
 "nbformat": 4,
 "nbformat_minor": 4
}
