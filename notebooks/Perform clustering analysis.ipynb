{
 "cells": [
  {
   "cell_type": "code",
   "execution_count": 1,
   "metadata": {},
   "outputs": [],
   "source": [
    "import pandas as pd"
   ]
  },
  {
   "cell_type": "code",
   "execution_count": 2,
   "metadata": {},
   "outputs": [],
   "source": [
    "wd = '/scratch/midway3/graziul/'"
   ]
  },
  {
   "cell_type": "code",
   "execution_count": 3,
   "metadata": {},
   "outputs": [
    {
     "data": {
      "text/html": [
       "<div>\n",
       "<style scoped>\n",
       "    .dataframe tbody tr th:only-of-type {\n",
       "        vertical-align: middle;\n",
       "    }\n",
       "\n",
       "    .dataframe tbody tr th {\n",
       "        vertical-align: top;\n",
       "    }\n",
       "\n",
       "    .dataframe thead th {\n",
       "        text-align: right;\n",
       "    }\n",
       "</style>\n",
       "<table border=\"1\" class=\"dataframe\">\n",
       "  <thead>\n",
       "    <tr style=\"text-align: right;\">\n",
       "      <th></th>\n",
       "      <th>file</th>\n",
       "      <th>dim1</th>\n",
       "      <th>dim2</th>\n",
       "      <th>dim3</th>\n",
       "      <th>dim4</th>\n",
       "      <th>dim5</th>\n",
       "    </tr>\n",
       "  </thead>\n",
       "  <tbody>\n",
       "    <tr>\n",
       "      <th>0</th>\n",
       "      <td>201907082355-948170-27730.mp3</td>\n",
       "      <td>0.08815</td>\n",
       "      <td>-0.038387</td>\n",
       "      <td>0.161491</td>\n",
       "      <td>0.0576</td>\n",
       "      <td>0.020966</td>\n",
       "    </tr>\n",
       "    <tr>\n",
       "      <th>1</th>\n",
       "      <td>201907090025-841246-27730.mp3</td>\n",
       "      <td>0.08815</td>\n",
       "      <td>-0.038387</td>\n",
       "      <td>0.161491</td>\n",
       "      <td>0.0576</td>\n",
       "      <td>0.020966</td>\n",
       "    </tr>\n",
       "    <tr>\n",
       "      <th>2</th>\n",
       "      <td>201907090055-788405-27730.mp3</td>\n",
       "      <td>0.08815</td>\n",
       "      <td>-0.038387</td>\n",
       "      <td>0.161491</td>\n",
       "      <td>0.0576</td>\n",
       "      <td>0.020966</td>\n",
       "    </tr>\n",
       "    <tr>\n",
       "      <th>3</th>\n",
       "      <td>201907090124-956726-27730.mp3</td>\n",
       "      <td>0.08815</td>\n",
       "      <td>-0.038387</td>\n",
       "      <td>0.161491</td>\n",
       "      <td>0.0576</td>\n",
       "      <td>0.020966</td>\n",
       "    </tr>\n",
       "    <tr>\n",
       "      <th>4</th>\n",
       "      <td>201907090154-501478-27730.mp3</td>\n",
       "      <td>0.08815</td>\n",
       "      <td>-0.038387</td>\n",
       "      <td>0.161491</td>\n",
       "      <td>0.0576</td>\n",
       "      <td>0.020966</td>\n",
       "    </tr>\n",
       "  </tbody>\n",
       "</table>\n",
       "</div>"
      ],
      "text/plain": [
       "                            file     dim1      dim2      dim3    dim4  \\\n",
       "0  201907082355-948170-27730.mp3  0.08815 -0.038387  0.161491  0.0576   \n",
       "1  201907090025-841246-27730.mp3  0.08815 -0.038387  0.161491  0.0576   \n",
       "2  201907090055-788405-27730.mp3  0.08815 -0.038387  0.161491  0.0576   \n",
       "3  201907090124-956726-27730.mp3  0.08815 -0.038387  0.161491  0.0576   \n",
       "4  201907090154-501478-27730.mp3  0.08815 -0.038387  0.161491  0.0576   \n",
       "\n",
       "       dim5  \n",
       "0  0.020966  \n",
       "1  0.020966  \n",
       "2  0.020966  \n",
       "3  0.020966  \n",
       "4  0.020966  "
      ]
     },
     "execution_count": 3,
     "metadata": {},
     "output_type": "execute_result"
    }
   ],
   "source": [
    "df_pca = pd.read_parquet(wd+'z1pca5.parquet',engine='pyarrow').reset_index(drop=True)\n",
    "df_pca.head()"
   ]
  },
  {
   "cell_type": "code",
   "execution_count": 44,
   "metadata": {},
   "outputs": [],
   "source": [
    "df_pca_t = df_pca[0:10]\n",
    "#df_pca_t"
   ]
  },
  {
   "cell_type": "code",
   "execution_count": null,
   "metadata": {},
   "outputs": [],
   "source": [
    "def get_metadata_from_filename(f):\n",
    "    fn = f.split('.')[0].split('-')[0]\n",
    "    y = fn[0:4]\n",
    "    m = fn[4:6]\n",
    "    d = fn[6:8]\n",
    "    t = fn[8:]\n",
    "    return y, m, d, t\n",
    "df_pca.loc[:,('y','m','d','t')] = df_pca['file'].apply(lambda x: get_metadata_from_filename(x)).apply(pd.Series)\n",
    "df_pca.head()"
   ]
  },
  {
   "cell_type": "code",
   "execution_count": 5,
   "metadata": {},
   "outputs": [],
   "source": [
    "import matplotlib.pyplot as plt\n",
    "import numpy as np\n",
    "\n",
    "from sklearn.cluster import AgglomerativeClustering\n",
    "from sklearn.metrics import pairwise_distances"
   ]
  },
  {
   "cell_type": "code",
   "execution_count": null,
   "metadata": {},
   "outputs": [],
   "source": []
  },
  {
   "cell_type": "code",
   "execution_count": 6,
   "metadata": {},
   "outputs": [],
   "source": [
    "from sklearn.cluster import DBSCAN\n",
    "from sklearn import metrics\n",
    "from sklearn.datasets import make_blobs\n",
    "from sklearn.preprocessing import StandardScaler"
   ]
  },
  {
   "cell_type": "code",
   "execution_count": null,
   "metadata": {},
   "outputs": [],
   "source": []
  },
  {
   "cell_type": "code",
   "execution_count": null,
   "metadata": {},
   "outputs": [],
   "source": []
  },
  {
   "cell_type": "code",
   "execution_count": null,
   "metadata": {},
   "outputs": [],
   "source": []
  },
  {
   "cell_type": "code",
   "execution_count": null,
   "metadata": {},
   "outputs": [],
   "source": []
  },
  {
   "cell_type": "code",
   "execution_count": null,
   "metadata": {},
   "outputs": [],
   "source": []
  },
  {
   "cell_type": "code",
   "execution_count": null,
   "metadata": {},
   "outputs": [],
   "source": []
  }
 ],
 "metadata": {
  "kernelspec": {
   "display_name": "Python 3",
   "language": "python",
   "name": "python3"
  },
  "language_info": {
   "codemirror_mode": {
    "name": "ipython",
    "version": 3
   },
   "file_extension": ".py",
   "mimetype": "text/x-python",
   "name": "python",
   "nbconvert_exporter": "python",
   "pygments_lexer": "ipython3",
   "version": "3.8.5"
  }
 },
 "nbformat": 4,
 "nbformat_minor": 4
}
