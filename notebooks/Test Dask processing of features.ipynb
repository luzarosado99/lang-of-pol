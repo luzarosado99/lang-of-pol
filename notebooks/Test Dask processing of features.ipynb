{
 "cells": [
  {
   "cell_type": "code",
   "execution_count": 21,
   "metadata": {},
   "outputs": [],
   "source": [
    "import dask.dataframe as dd\n",
    "from dask import delayed\n",
    "from fastparquet import ParquetFile\n",
    "import dask_ml.cluster as dmlc\n",
    "from dask_ml.preprocessing import MinMaxScaler\n",
    "import glob\n",
    "\n",
    "@delayed\n",
    "def load_chunk(pth):\n",
    "    return ParquetFile(pth).to_pandas()"
   ]
  },
  {
   "cell_type": "code",
   "execution_count": 2,
   "metadata": {},
   "outputs": [],
   "source": [
    "wd = '/scratch/midway3/graziul/Zone1/'"
   ]
  },
  {
   "cell_type": "code",
   "execution_count": 3,
   "metadata": {},
   "outputs": [
    {
     "data": {
      "text/plain": [
       "360"
      ]
     },
     "execution_count": 3,
     "metadata": {},
     "output_type": "execute_result"
    }
   ],
   "source": [
    "data_files_list = glob.glob(wd+'*/*gemapsv01b.parquet')\n",
    "len(data_files_list)"
   ]
  },
  {
   "cell_type": "code",
   "execution_count": 4,
   "metadata": {},
   "outputs": [
    {
     "data": {
      "text/plain": [
       "'/scratch/midway3/graziul/Zone1/2019_07_09/2019_07_09gemapsv01b.parquet'"
      ]
     },
     "execution_count": 4,
     "metadata": {},
     "output_type": "execute_result"
    }
   ],
   "source": [
    "data_files_list[0]"
   ]
  },
  {
   "cell_type": "code",
   "execution_count": 5,
   "metadata": {},
   "outputs": [
    {
     "data": {
      "text/html": [
       "<table style=\"border: 2px solid white;\">\n",
       "<tr>\n",
       "<td style=\"vertical-align: top; border: 0px solid white\">\n",
       "<h3 style=\"text-align: left;\">Client</h3>\n",
       "<ul style=\"text-align: left; list-style: none; margin: 0; padding: 0;\">\n",
       "  <li><b>Scheduler: </b>tcp://127.0.0.1:40199</li>\n",
       "  <li><b>Dashboard: </b><a href='http://127.0.0.1:8787/status' target='_blank'>http://127.0.0.1:8787/status</a></li>\n",
       "</ul>\n",
       "</td>\n",
       "<td style=\"vertical-align: top; border: 0px solid white\">\n",
       "<h3 style=\"text-align: left;\">Cluster</h3>\n",
       "<ul style=\"text-align: left; list-style:none; margin: 0; padding: 0;\">\n",
       "  <li><b>Workers: </b>12</li>\n",
       "  <li><b>Cores: </b>12</li>\n",
       "  <li><b>Memory: </b>192.00 GB</li>\n",
       "</ul>\n",
       "</td>\n",
       "</tr>\n",
       "</table>"
      ],
      "text/plain": [
       "<Client: 'tcp://127.0.0.1:40199' processes=12 threads=12, memory=192.00 GB>"
      ]
     },
     "execution_count": 5,
     "metadata": {},
     "output_type": "execute_result"
    }
   ],
   "source": [
    "from dask.distributed import Client, progress\n",
    "client = Client(n_workers=12, threads_per_worker=1, memory_limit='16GB')\n",
    "client"
   ]
  },
  {
   "cell_type": "code",
   "execution_count": 6,
   "metadata": {},
   "outputs": [],
   "source": [
    "feats = ['Loudness_sma3', 'alphaRatio_sma3',\n",
    "       'hammarbergIndex_sma3', 'slope0-500_sma3', 'slope500-1500_sma3',\n",
    "       'F0semitoneFrom27.5Hz_sma3nz', 'jitterLocal_sma3nz',\n",
    "       'shimmerLocaldB_sma3nz', 'HNRdBACF_sma3nz',\n",
    "       'logRelF0-H1-H2_sma3nz', 'logRelF0-H1-A3_sma3nz',\n",
    "       'F1frequency_sma3nz', 'F1bandwidth_sma3nz',\n",
    "       'F1amplitudeLogRelF0_sma3nz', 'F2frequency_sma3nz',\n",
    "       'F2amplitudeLogRelF0_sma3nz', 'F3frequency_sma3nz',\n",
    "       'F3amplitudeLogRelF0_sma3nz']"
   ]
  },
  {
   "cell_type": "code",
   "execution_count": 30,
   "metadata": {},
   "outputs": [],
   "source": [
    "df = dd.from_delayed([load_chunk(f)[feats] for f in data_files_list[0:20]])"
   ]
  },
  {
   "cell_type": "code",
   "execution_count": 31,
   "metadata": {},
   "outputs": [],
   "source": [
    "df = df.astype('float64')"
   ]
  },
  {
   "cell_type": "code",
   "execution_count": 32,
   "metadata": {},
   "outputs": [],
   "source": [
    "scaler = MinMaxScaler()\n",
    "dff = scaler.fit_transform(df)"
   ]
  },
  {
   "cell_type": "code",
   "execution_count": 33,
   "metadata": {},
   "outputs": [
    {
     "data": {
      "text/html": [
       "<div>\n",
       "<style scoped>\n",
       "    .dataframe tbody tr th:only-of-type {\n",
       "        vertical-align: middle;\n",
       "    }\n",
       "\n",
       "    .dataframe tbody tr th {\n",
       "        vertical-align: top;\n",
       "    }\n",
       "\n",
       "    .dataframe thead th {\n",
       "        text-align: right;\n",
       "    }\n",
       "</style>\n",
       "<table border=\"1\" class=\"dataframe\">\n",
       "  <thead>\n",
       "    <tr style=\"text-align: right;\">\n",
       "      <th></th>\n",
       "      <th>Loudness_sma3</th>\n",
       "      <th>alphaRatio_sma3</th>\n",
       "      <th>hammarbergIndex_sma3</th>\n",
       "      <th>slope0-500_sma3</th>\n",
       "      <th>slope500-1500_sma3</th>\n",
       "      <th>F0semitoneFrom27.5Hz_sma3nz</th>\n",
       "      <th>jitterLocal_sma3nz</th>\n",
       "      <th>shimmerLocaldB_sma3nz</th>\n",
       "      <th>HNRdBACF_sma3nz</th>\n",
       "      <th>logRelF0-H1-H2_sma3nz</th>\n",
       "      <th>logRelF0-H1-A3_sma3nz</th>\n",
       "      <th>F1frequency_sma3nz</th>\n",
       "      <th>F1bandwidth_sma3nz</th>\n",
       "      <th>F1amplitudeLogRelF0_sma3nz</th>\n",
       "      <th>F2frequency_sma3nz</th>\n",
       "      <th>F2amplitudeLogRelF0_sma3nz</th>\n",
       "      <th>F3frequency_sma3nz</th>\n",
       "      <th>F3amplitudeLogRelF0_sma3nz</th>\n",
       "    </tr>\n",
       "    <tr>\n",
       "      <th>index</th>\n",
       "      <th></th>\n",
       "      <th></th>\n",
       "      <th></th>\n",
       "      <th></th>\n",
       "      <th></th>\n",
       "      <th></th>\n",
       "      <th></th>\n",
       "      <th></th>\n",
       "      <th></th>\n",
       "      <th></th>\n",
       "      <th></th>\n",
       "      <th></th>\n",
       "      <th></th>\n",
       "      <th></th>\n",
       "      <th></th>\n",
       "      <th></th>\n",
       "      <th></th>\n",
       "      <th></th>\n",
       "    </tr>\n",
       "  </thead>\n",
       "  <tbody>\n",
       "    <tr>\n",
       "      <th>0</th>\n",
       "      <td>0.891062</td>\n",
       "      <td>0.570824</td>\n",
       "      <td>0.636865</td>\n",
       "      <td>0.407161</td>\n",
       "      <td>0.711088</td>\n",
       "      <td>0.0</td>\n",
       "      <td>0.0</td>\n",
       "      <td>0.0</td>\n",
       "      <td>0.0</td>\n",
       "      <td>0.0</td>\n",
       "      <td>0.0</td>\n",
       "      <td>0.588832</td>\n",
       "      <td>0.169548</td>\n",
       "      <td>0.0</td>\n",
       "      <td>0.696418</td>\n",
       "      <td>0.0</td>\n",
       "      <td>0.620617</td>\n",
       "      <td>0.0</td>\n",
       "    </tr>\n",
       "    <tr>\n",
       "      <th>1</th>\n",
       "      <td>0.893882</td>\n",
       "      <td>0.561899</td>\n",
       "      <td>0.626436</td>\n",
       "      <td>0.476565</td>\n",
       "      <td>0.659140</td>\n",
       "      <td>0.0</td>\n",
       "      <td>0.0</td>\n",
       "      <td>0.0</td>\n",
       "      <td>0.0</td>\n",
       "      <td>0.0</td>\n",
       "      <td>0.0</td>\n",
       "      <td>0.599650</td>\n",
       "      <td>0.175540</td>\n",
       "      <td>0.0</td>\n",
       "      <td>0.715977</td>\n",
       "      <td>0.0</td>\n",
       "      <td>0.609349</td>\n",
       "      <td>0.0</td>\n",
       "    </tr>\n",
       "    <tr>\n",
       "      <th>2</th>\n",
       "      <td>0.881827</td>\n",
       "      <td>0.534235</td>\n",
       "      <td>0.642016</td>\n",
       "      <td>0.511808</td>\n",
       "      <td>0.576440</td>\n",
       "      <td>0.0</td>\n",
       "      <td>0.0</td>\n",
       "      <td>0.0</td>\n",
       "      <td>0.0</td>\n",
       "      <td>0.0</td>\n",
       "      <td>0.0</td>\n",
       "      <td>0.607914</td>\n",
       "      <td>0.170531</td>\n",
       "      <td>0.0</td>\n",
       "      <td>0.718447</td>\n",
       "      <td>0.0</td>\n",
       "      <td>0.605591</td>\n",
       "      <td>0.0</td>\n",
       "    </tr>\n",
       "    <tr>\n",
       "      <th>3</th>\n",
       "      <td>0.877848</td>\n",
       "      <td>0.517465</td>\n",
       "      <td>0.670805</td>\n",
       "      <td>0.535436</td>\n",
       "      <td>0.489329</td>\n",
       "      <td>0.0</td>\n",
       "      <td>0.0</td>\n",
       "      <td>0.0</td>\n",
       "      <td>0.0</td>\n",
       "      <td>0.0</td>\n",
       "      <td>0.0</td>\n",
       "      <td>0.621258</td>\n",
       "      <td>0.164732</td>\n",
       "      <td>0.0</td>\n",
       "      <td>0.743082</td>\n",
       "      <td>0.0</td>\n",
       "      <td>0.610873</td>\n",
       "      <td>0.0</td>\n",
       "    </tr>\n",
       "    <tr>\n",
       "      <th>4</th>\n",
       "      <td>0.877838</td>\n",
       "      <td>0.522198</td>\n",
       "      <td>0.695098</td>\n",
       "      <td>0.524874</td>\n",
       "      <td>0.457522</td>\n",
       "      <td>0.0</td>\n",
       "      <td>0.0</td>\n",
       "      <td>0.0</td>\n",
       "      <td>0.0</td>\n",
       "      <td>0.0</td>\n",
       "      <td>0.0</td>\n",
       "      <td>0.559799</td>\n",
       "      <td>0.148550</td>\n",
       "      <td>0.0</td>\n",
       "      <td>0.682990</td>\n",
       "      <td>0.0</td>\n",
       "      <td>0.589477</td>\n",
       "      <td>0.0</td>\n",
       "    </tr>\n",
       "  </tbody>\n",
       "</table>\n",
       "</div>"
      ],
      "text/plain": [
       "       Loudness_sma3  alphaRatio_sma3  hammarbergIndex_sma3  slope0-500_sma3  \\\n",
       "index                                                                          \n",
       "0           0.891062         0.570824              0.636865         0.407161   \n",
       "1           0.893882         0.561899              0.626436         0.476565   \n",
       "2           0.881827         0.534235              0.642016         0.511808   \n",
       "3           0.877848         0.517465              0.670805         0.535436   \n",
       "4           0.877838         0.522198              0.695098         0.524874   \n",
       "\n",
       "       slope500-1500_sma3  F0semitoneFrom27.5Hz_sma3nz  jitterLocal_sma3nz  \\\n",
       "index                                                                        \n",
       "0                0.711088                          0.0                 0.0   \n",
       "1                0.659140                          0.0                 0.0   \n",
       "2                0.576440                          0.0                 0.0   \n",
       "3                0.489329                          0.0                 0.0   \n",
       "4                0.457522                          0.0                 0.0   \n",
       "\n",
       "       shimmerLocaldB_sma3nz  HNRdBACF_sma3nz  logRelF0-H1-H2_sma3nz  \\\n",
       "index                                                                  \n",
       "0                        0.0              0.0                    0.0   \n",
       "1                        0.0              0.0                    0.0   \n",
       "2                        0.0              0.0                    0.0   \n",
       "3                        0.0              0.0                    0.0   \n",
       "4                        0.0              0.0                    0.0   \n",
       "\n",
       "       logRelF0-H1-A3_sma3nz  F1frequency_sma3nz  F1bandwidth_sma3nz  \\\n",
       "index                                                                  \n",
       "0                        0.0            0.588832            0.169548   \n",
       "1                        0.0            0.599650            0.175540   \n",
       "2                        0.0            0.607914            0.170531   \n",
       "3                        0.0            0.621258            0.164732   \n",
       "4                        0.0            0.559799            0.148550   \n",
       "\n",
       "       F1amplitudeLogRelF0_sma3nz  F2frequency_sma3nz  \\\n",
       "index                                                   \n",
       "0                             0.0            0.696418   \n",
       "1                             0.0            0.715977   \n",
       "2                             0.0            0.718447   \n",
       "3                             0.0            0.743082   \n",
       "4                             0.0            0.682990   \n",
       "\n",
       "       F2amplitudeLogRelF0_sma3nz  F3frequency_sma3nz  \\\n",
       "index                                                   \n",
       "0                             0.0            0.620617   \n",
       "1                             0.0            0.609349   \n",
       "2                             0.0            0.605591   \n",
       "3                             0.0            0.610873   \n",
       "4                             0.0            0.589477   \n",
       "\n",
       "       F3amplitudeLogRelF0_sma3nz  \n",
       "index                              \n",
       "0                             0.0  \n",
       "1                             0.0  \n",
       "2                             0.0  \n",
       "3                             0.0  \n",
       "4                             0.0  "
      ]
     },
     "execution_count": 33,
     "metadata": {},
     "output_type": "execute_result"
    }
   ],
   "source": [
    "dff.head()"
   ]
  },
  {
   "cell_type": "code",
   "execution_count": 34,
   "metadata": {},
   "outputs": [],
   "source": [
    "X = dff.to_dask_array(lengths=True)"
   ]
  },
  {
   "cell_type": "code",
   "execution_count": 35,
   "metadata": {},
   "outputs": [
    {
     "data": {
      "text/html": [
       "<table>\n",
       "<tr>\n",
       "<td>\n",
       "<table>\n",
       "  <thead>\n",
       "    <tr><td> </td><th> Array </th><th> Chunk </th></tr>\n",
       "  </thead>\n",
       "  <tbody>\n",
       "    <tr><th> Bytes </th><td> 4.00 GB </td> <td> 276.10 MB </td></tr>\n",
       "    <tr><th> Shape </th><td> (27799726, 18) </td> <td> (1917335, 18) </td></tr>\n",
       "    <tr><th> Count </th><td> 140 Tasks </td><td> 20 Chunks </td></tr>\n",
       "    <tr><th> Type </th><td> float64 </td><td> numpy.ndarray </td></tr>\n",
       "  </tbody>\n",
       "</table>\n",
       "</td>\n",
       "<td>\n",
       "<svg width=\"75\" height=\"170\" style=\"stroke:rgb(0,0,0);stroke-width:1\" >\n",
       "\n",
       "  <!-- Horizontal lines -->\n",
       "  <line x1=\"0\" y1=\"0\" x2=\"25\" y2=\"0\" style=\"stroke-width:2\" />\n",
       "  <line x1=\"0\" y1=\"5\" x2=\"25\" y2=\"5\" />\n",
       "  <line x1=\"0\" y1=\"10\" x2=\"25\" y2=\"10\" />\n",
       "  <line x1=\"0\" y1=\"16\" x2=\"25\" y2=\"16\" />\n",
       "  <line x1=\"0\" y1=\"21\" x2=\"25\" y2=\"21\" />\n",
       "  <line x1=\"0\" y1=\"27\" x2=\"25\" y2=\"27\" />\n",
       "  <line x1=\"0\" y1=\"33\" x2=\"25\" y2=\"33\" />\n",
       "  <line x1=\"0\" y1=\"41\" x2=\"25\" y2=\"41\" />\n",
       "  <line x1=\"0\" y1=\"45\" x2=\"25\" y2=\"45\" />\n",
       "  <line x1=\"0\" y1=\"50\" x2=\"25\" y2=\"50\" />\n",
       "  <line x1=\"0\" y1=\"58\" x2=\"25\" y2=\"58\" />\n",
       "  <line x1=\"0\" y1=\"65\" x2=\"25\" y2=\"65\" />\n",
       "  <line x1=\"0\" y1=\"72\" x2=\"25\" y2=\"72\" />\n",
       "  <line x1=\"0\" y1=\"76\" x2=\"25\" y2=\"76\" />\n",
       "  <line x1=\"0\" y1=\"82\" x2=\"25\" y2=\"82\" />\n",
       "  <line x1=\"0\" y1=\"89\" x2=\"25\" y2=\"89\" />\n",
       "  <line x1=\"0\" y1=\"94\" x2=\"25\" y2=\"94\" />\n",
       "  <line x1=\"0\" y1=\"101\" x2=\"25\" y2=\"101\" />\n",
       "  <line x1=\"0\" y1=\"107\" x2=\"25\" y2=\"107\" />\n",
       "  <line x1=\"0\" y1=\"120\" x2=\"25\" y2=\"120\" style=\"stroke-width:2\" />\n",
       "\n",
       "  <!-- Vertical lines -->\n",
       "  <line x1=\"0\" y1=\"0\" x2=\"0\" y2=\"120\" style=\"stroke-width:2\" />\n",
       "  <line x1=\"25\" y1=\"0\" x2=\"25\" y2=\"120\" style=\"stroke-width:2\" />\n",
       "\n",
       "  <!-- Colored Rectangle -->\n",
       "  <polygon points=\"0.0,0.0 25.412616514582485,0.0 25.412616514582485,120.0 0.0,120.0\" style=\"fill:#8B4903A0;stroke-width:0\"/>\n",
       "\n",
       "  <!-- Text -->\n",
       "  <text x=\"12.706308\" y=\"140.000000\" font-size=\"1.0rem\" font-weight=\"100\" text-anchor=\"middle\" >18</text>\n",
       "  <text x=\"45.412617\" y=\"60.000000\" font-size=\"1.0rem\" font-weight=\"100\" text-anchor=\"middle\" transform=\"rotate(-90,45.412617,60.000000)\">27799726</text>\n",
       "</svg>\n",
       "</td>\n",
       "</tr>\n",
       "</table>"
      ],
      "text/plain": [
       "dask.array<values, shape=(27799726, 18), dtype=float64, chunksize=(1917335, 18), chunktype=numpy.ndarray>"
      ]
     },
     "execution_count": 35,
     "metadata": {},
     "output_type": "execute_result"
    }
   ],
   "source": [
    "X"
   ]
  },
  {
   "cell_type": "code",
   "execution_count": null,
   "metadata": {},
   "outputs": [],
   "source": [
    "dc = dmlc.SpectralClustering(n_clusters=10, n_components=100).fit(X)"
   ]
  },
  {
   "cell_type": "code",
   "execution_count": null,
   "metadata": {},
   "outputs": [],
   "source": []
  }
 ],
 "metadata": {
  "kernelspec": {
   "display_name": "Python 3 (ipykernel)",
   "language": "python",
   "name": "python3"
  },
  "language_info": {
   "codemirror_mode": {
    "name": "ipython",
    "version": 3
   },
   "file_extension": ".py",
   "mimetype": "text/x-python",
   "name": "python",
   "nbconvert_exporter": "python",
   "pygments_lexer": "ipython3",
   "version": "3.9.6"
  }
 },
 "nbformat": 4,
 "nbformat_minor": 4
}
